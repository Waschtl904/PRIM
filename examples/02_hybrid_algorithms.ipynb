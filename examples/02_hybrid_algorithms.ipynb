{
  "cells": [
    {
      "cell_type": "markdown",
      "metadata": {},
      "source": [
        "# Modul 3: Hybrid-Workflow \"Sieb + FJ32\"\n",
        "\n",
        "**Ziel:** Kombination des schnellen Numba-Siebs aus Modul 2 mit dem deterministischen FJ32-Test aus Modul 1\n",
        "\n",
        "**Autor:** Sebastian\n",
        "**Datum:** September 2025\n",
        "**Repository:** C:\\Users\\sebas\\Desktop\\coding\\PRIM\n",
        "\n",
        "## Überblick\n",
        "\n",
        "Dieses Notebook implementiert und testet einen Hybrid-Ansatz:\n",
        "1. **Schnelle Primzahl-Generierung** mit dem optimierten Numba-Sieb\n",
        "2. **Verifikation der Ergebnisse** mit dem deterministischen FJ32-Test\n",
        "3. **Performance-Benchmark** der verschiedenen Ansätze\n",
        "4. **Analyse und Visualisierung** der Ergebnisse"
      ]
    },
    {
      "cell_type": "markdown",
      "metadata": {},
      "source": [
        "## 1. Setup und Imports"
      ]
    },
    {
      "cell_type": "code",
      "execution_count": 1,
      "metadata": {},
      "outputs": [
        {
          "name": "stdout",
          "output_type": "stream",
          "text": [
            "🔧 Arbeitsverzeichnis: c:\\Users\\sebas\\Desktop\\coding\\PRIM\n",
            "🔧 Projekt-Root: C:\\Users\\sebas\\Desktop\\coding\\PRIM\n"
          ]
        }
      ],
      "source": [
        "import sys\n",
        "import os\n",
        "import time\n",
        "import numpy as np\n",
        "import pandas as pd\n",
        "import matplotlib.pyplot as plt\n",
        "from typing import List, Tuple, Dict, Any\n",
        "\n",
        "# Projekt-Root hinzufügen\n",
        "project_root = r'C:\\Users\\sebas\\Desktop\\coding\\PRIM'\n",
        "if project_root not in sys.path:\n",
        "    sys.path.append(project_root)\n",
        "\n",
        "print(f\"🔧 Arbeitsverzeichnis: {os.getcwd()}\")\n",
        "print(f\"🔧 Projekt-Root: {project_root}\")"
      ]
    },
    {
      "cell_type": "code",
      "execution_count": 2,
      "metadata": {},
      "outputs": [
        {
          "name": "stdout",
          "output_type": "stream",
          "text": [
            "✅ Numba-Sieb erfolgreich importiert\n",
            "✅ FJ32-Test erfolgreich importiert\n",
            "   Verfügbare Funktionen: ['__doc__', '__file__', '__loader__', '__name__', '__package__', '__spec__', 'fj32_c', 'fj_hash_c']\n",
            "\n",
            "📊 Status:\n",
            "   Numba-Sieb: ✅\n",
            "   FJ32-Test:   ✅\n"
          ]
        }
      ],
      "source": [
        "# Versuche Module aus vorherigen Projekten zu importieren\n",
        "\n",
        "# Numba-Sieb aus Modul 2\n",
        "try:\n",
        "    from modul2_wheel_sieve.modul2_simple_sieve_numba import simple_sieve\n",
        "    print(\"✅ Numba-Sieb erfolgreich importiert\")\n",
        "    HAS_NUMBA_SIEVE = True\n",
        "except ImportError as e:\n",
        "    print(f\"⚠️ Numba-Sieb nicht verfügbar: {e}\")\n",
        "    HAS_NUMBA_SIEVE = False\n",
        "\n",
        "# FJ32-Test aus Modul 1\n",
        "try:\n",
        "    import primetest\n",
        "    print(\"✅ FJ32-Test erfolgreich importiert\")\n",
        "    print(f\"   Verfügbare Funktionen: {dir(primetest)}\")\n",
        "    HAS_FJ32 = True\n",
        "except ImportError as e:\n",
        "    print(f\"⚠️ FJ32-Test nicht verfügbar: {e}\")\n",
        "    HAS_FJ32 = False\n",
        "\n",
        "print(f\"\\n📊 Status:\")\n",
        "print(f\"   Numba-Sieb: {'✅' if HAS_NUMBA_SIEVE else '❌'}\")\n",
        "print(f\"   FJ32-Test:   {'✅' if HAS_FJ32 else '❌'}\")"
      ]
    },
    {
      "cell_type": "markdown",
      "metadata": {},
      "source": [
        "## 2. Fallback-Implementierungen"
      ]
    },
    {
      "cell_type": "code",
      "execution_count": 3,
      "metadata": {},
      "outputs": [
        {
          "name": "stdout",
          "output_type": "stream",
          "text": [
            "📝 Fallback-Sieb Test (N=100): 25 Primzahlen gefunden\n",
            "   Erste 10: [ 2  3  5  7 11 13 17 19 23 29]\n",
            "\n",
            "📝 Fallback-Primtest:\n",
            "   17: Prim\n",
            "   25: Nicht prim\n",
            "   97: Prim\n",
            "   100: Nicht prim\n"
          ]
        }
      ],
      "source": [
        "def fallback_simple_sieve(limit: int) -> np.ndarray:\n",
        "    \"\"\"\n",
        "    Fallback-Implementierung des Eratosthenes-Siebs\n",
        "    falls die Numba-optimierte Version nicht verfügbar ist\n",
        "    \"\"\"\n",
        "    if limit < 2:\n",
        "        return np.array([], dtype=np.int64)\n",
        "    \n",
        "    # Initialisiere Boolean-Array\n",
        "    is_prime = np.ones(limit, dtype=bool)\n",
        "    is_prime[0] = is_prime[1] = False\n",
        "    \n",
        "    # Sieben\n",
        "    for i in range(2, int(limit**0.5) + 1):\n",
        "        if is_prime[i]:\n",
        "            is_prime[i*i::i] = False\n",
        "    \n",
        "    return np.where(is_prime)[0].astype(np.int64)\n",
        "\n",
        "def fallback_is_prime_fj32(n: int) -> bool:\n",
        "    \"\"\"\n",
        "    Fallback-Implementierung eines einfachen Primzahltests\n",
        "    falls FJ32 nicht verfügbar ist\n",
        "    \"\"\"\n",
        "    if n < 2:\n",
        "        return False\n",
        "    if n == 2:\n",
        "        return True\n",
        "    if n % 2 == 0:\n",
        "        return False\n",
        "    \n",
        "    for i in range(3, int(n**0.5) + 1, 2):\n",
        "        if n % i == 0:\n",
        "            return False\n",
        "    return True\n",
        "\n",
        "# Teste Fallback-Funktionen\n",
        "test_limit = 100\n",
        "test_primes = fallback_simple_sieve(test_limit)\n",
        "print(f\"📝 Fallback-Sieb Test (N={test_limit}): {len(test_primes)} Primzahlen gefunden\")\n",
        "print(f\"   Erste 10: {test_primes[:10]}\")\n",
        "\n",
        "# Teste einige Primzahlen\n",
        "test_numbers = [17, 25, 97, 100]\n",
        "print(f\"\\n📝 Fallback-Primtest:\")\n",
        "for num in test_numbers:\n",
        "    result = fallback_is_prime_fj32(num)\n",
        "    print(f\"   {num}: {'Prim' if result else 'Nicht prim'}\")"
      ]
    },
    {
      "cell_type": "markdown",
      "metadata": {},
      "source": [
        "## 3. Hybrid-Analyzer Klasse\n",
        "\n",
        "Die Hauptklasse für den Hybrid-Workflow kombiniert das optimierte Sieb mit der FJ32-Verifikation."
      ]
    },
    {
      "cell_type": "code",
      "execution_count": 4,
      "metadata": {},
      "outputs": [
        {
          "name": "stdout",
          "output_type": "stream",
          "text": [
            "🚀 HybridPrimeAnalyzer initialisiert\n",
            "   Numba-Sieb: ✅\n",
            "   FJ32-Test:   ✅\n"
          ]
        }
      ],
      "source": [
        "class HybridPrimeAnalyzer:\n",
        "    \"\"\"\n",
        "    Hauptklasse für den Hybrid-Workflow: Sieb + FJ32-Verifikation\n",
        "    \"\"\"\n",
        "    \n",
        "    def __init__(self):\n",
        "        self.results = []\n",
        "        self.has_numba_sieve = HAS_NUMBA_SIEVE\n",
        "        self.has_fj32 = HAS_FJ32\n",
        "        \n",
        "        print(f\"🚀 HybridPrimeAnalyzer initialisiert\")\n",
        "        print(f\"   Numba-Sieb: {'✅' if self.has_numba_sieve else '❌ (Fallback)'}\")\n",
        "        print(f\"   FJ32-Test:   {'✅' if self.has_fj32 else '❌ (Fallback)'}\")\n",
        "        \n",
        "    def get_sieve_function(self):\n",
        "        \"\"\"Wähle die beste verfügbare Sieb-Funktion\"\"\"\n",
        "        if self.has_numba_sieve:\n",
        "            return simple_sieve\n",
        "        else:\n",
        "            return fallback_simple_sieve\n",
        "    \n",
        "    def get_primality_test_function(self):\n",
        "        \"\"\"Wähle die beste verfügbare Primzahl-Test-Funktion\"\"\"\n",
        "        if self.has_fj32:\n",
        "            return lambda n: primetest.is_prime_fj32(int(n))\n",
        "        else:\n",
        "            return fallback_is_prime_fj32\n",
        "        \n",
        "    def run_sieve_only(self, limit: int):\n",
        "        \"\"\"\n",
        "        Führt nur das Sieb aus und misst die Zeit\n",
        "        \"\"\"\n",
        "        print(f\"🔍 Sieb-Test bis {limit:,}...\")\n",
        "        \n",
        "        sieve_func = self.get_sieve_function()\n",
        "        \n",
        "        start_time = time.perf_counter()\n",
        "        primes = sieve_func(limit)\n",
        "        end_time = time.perf_counter()\n",
        "        \n",
        "        execution_time = end_time - start_time\n",
        "        print(f\"   ✅ {len(primes):,} Primzahlen in {execution_time:.6f}s\")\n",
        "        \n",
        "        return primes, execution_time\n",
        "    \n",
        "    def run_fj32_verification(self, primes):\n",
        "        \"\"\"\n",
        "        Verifiziert Sieb-Primzahlen mit FJ32-Test\n",
        "        \"\"\"\n",
        "        print(f\"🔍 FJ32-Verifikation von {len(primes):,} Primzahlen...\")\n",
        "        \n",
        "        primality_test = self.get_primality_test_function()\n",
        "        \n",
        "        verified_count = 0\n",
        "        failed_count = 0\n",
        "        failed_numbers = []\n",
        "        \n",
        "        start_time = time.perf_counter()\n",
        "        \n",
        "        for prime in primes:\n",
        "            if primality_test(prime):\n",
        "                verified_count += 1\n",
        "            else:\n",
        "                failed_count += 1\n",
        "                failed_numbers.append(prime)\n",
        "                if len(failed_numbers) <= 10:  # Zeige max. 10 Fehler\n",
        "                    print(f\"   ⚠️ Widerspruch bei {prime}\")\n",
        "        \n",
        "        end_time = time.perf_counter()\n",
        "        execution_time = end_time - start_time\n",
        "        \n",
        "        success_rate = (verified_count / len(primes)) * 100 if len(primes) > 0 else 0\n",
        "        print(f\"   ✅ {verified_count:,} bestätigt ({success_rate:.2f}%), {failed_count:,} Widersprüche in {execution_time:.6f}s\")\n",
        "        \n",
        "        if failed_numbers:\n",
        "            print(f\"   ⚠️ Erste Widersprüche: {failed_numbers[:10]}\")\n",
        "        \n",
        "        return verified_count, failed_count, execution_time\n",
        "\n",
        "# Teste die Klasse\n",
        "analyzer = HybridPrimeAnalyzer()"
      ]
    }
  ],
  "metadata": {
    "kernelspec": {
      "display_name": ".venv",
      "language": "python",
      "name": "python3"
    },
    "language_info": {
      "codemirror_mode": {
        "name": "ipython",
        "version": 3
      },
      "file_extension": ".py",
      "mimetype": "text/x-python",
      "name": "python",
      "nbconvert_exporter": "python",
      "pygments_lexer": "ipython3",
      "version": "3.10.6"
    }
  },
  "nbformat": 4,
  "nbformat_minor": 4
}
