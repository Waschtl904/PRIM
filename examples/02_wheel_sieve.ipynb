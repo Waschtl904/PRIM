{
 "cells": [
  {
   "cell_type": "code",
   "execution_count": 1,
   "id": "19af243e",
   "metadata": {},
   "outputs": [
    {
     "name": "stdout",
     "output_type": "stream",
     "text": [
      "Wheel-30 eliminiert 73.3% der Kandidaten\n",
      "Coprime Residuen mod 30: [ 1  7 11 13 17 19 23 29]\n"
     ]
    }
   ],
   "source": [
    "import numpy as np\n",
    "import numba as nb\n",
    "import time\n",
    "from typing import List, Tuple\n",
    "\n",
    "# Wheel-30-Konstanten (eliminiert Vielfache von 2,3,5)\n",
    "WHEEL30_SIZE = 30\n",
    "WHEEL30_COPRIME = np.array([1, 7, 11, 13, 17, 19, 23, 29], dtype=np.int32)\n",
    "print(f\"Wheel-30 eliminiert {(30-len(WHEEL30_COPRIME))/30*100:.1f}% der Kandidaten\")\n",
    "print(f\"Coprime Residuen mod 30: {WHEEL30_COPRIME}\")"
   ]
  },
  {
   "cell_type": "code",
   "execution_count": 2,
   "id": "4d72be7d",
   "metadata": {},
   "outputs": [
    {
     "name": "stdout",
     "output_type": "stream",
     "text": [
      "Erste 20 Wheel-30-Kandidaten bis 100:\n",
      "[np.int32(7), np.int32(11), np.int32(13), np.int32(17), np.int32(19), np.int32(23), np.int32(29), np.int32(31), np.int32(37), np.int32(41), np.int32(43), np.int32(47), np.int32(49), np.int32(53), np.int32(59), np.int32(61), np.int32(67), np.int32(71), np.int32(73), np.int32(77)]\n"
     ]
    }
   ],
   "source": [
    "def wheel30_sieve_python(limit: int) -> List[int]:\n",
    "    \"\"\"Naiver Wheel-30-Generator in Python.\"\"\"\n",
    "    candidates = []\n",
    "    k = 0\n",
    "    while True:\n",
    "        base = k * WHEEL30_SIZE\n",
    "        if base >= limit:\n",
    "            break\n",
    "        for r in WHEEL30_COPRIME:\n",
    "            candidate = base + r\n",
    "            if candidate >= limit:\n",
    "                break\n",
    "            if candidate > 1:  # Skip 1\n",
    "                candidates.append(candidate)\n",
    "        k += 1\n",
    "    return candidates\n",
    "\n",
    "\n",
    "# Test\n",
    "test_limit = 100\n",
    "candidates = wheel30_sieve_python(test_limit)\n",
    "print(f\"Erste 20 Wheel-30-Kandidaten bis {test_limit}:\")\n",
    "print(candidates[:20])"
   ]
  },
  {
   "cell_type": "code",
   "execution_count": 3,
   "id": "d284b3bf",
   "metadata": {},
   "outputs": [
    {
     "name": "stdout",
     "output_type": "stream",
     "text": [
      "Numba-Version identisch: True\n"
     ]
    }
   ],
   "source": [
    "@nb.njit(cache=True)\n",
    "def wheel30_sieve_numba(limit: int) -> np.ndarray:\n",
    "    \"\"\"Wheel-30-Sieb mit Numba-JIT.\"\"\"\n",
    "    # Schätze maximale Anzahl der Kandidaten\n",
    "    max_candidates = int(limit * 0.27)  # ~26.7% der Zahlen sind coprime zu 30\n",
    "    candidates = np.empty(max_candidates, dtype=np.int32)\n",
    "\n",
    "    idx = 0\n",
    "    k = 0\n",
    "    while True:\n",
    "        base = k * WHEEL30_SIZE\n",
    "        if base >= limit:\n",
    "            break\n",
    "        for i in range(len(WHEEL30_COPRIME)):\n",
    "            candidate = base + WHEEL30_COPRIME[i]\n",
    "            if candidate >= limit:\n",
    "                break\n",
    "            if candidate > 1:\n",
    "                candidates[idx] = candidate\n",
    "                idx += 1\n",
    "        k += 1\n",
    "\n",
    "    return candidates[:idx]\n",
    "\n",
    "\n",
    "# Warmup und Test\n",
    "_ = wheel30_sieve_numba(100)\n",
    "candidates_nb = wheel30_sieve_numba(test_limit)\n",
    "print(f\"Numba-Version identisch: {np.array_equal(candidates, candidates_nb)}\")"
   ]
  },
  {
   "cell_type": "code",
   "execution_count": 4,
   "id": "52f81e06",
   "metadata": {},
   "outputs": [
    {
     "name": "stdout",
     "output_type": "stream",
     "text": [
      "Kandidaten bis 1,000,000:\n",
      "Brute Force:  266,665 kandidaten in 0.072s\n",
      "Wheel-30 Py:  266,665 kandidaten in 0.119s\n",
      "Wheel-30 NB:  266,665 kandidaten in 0.001s\n",
      "Speedup Numba: 161.3×\n"
     ]
    }
   ],
   "source": [
    "def brute_force_candidates(limit: int) -> List[int]:\n",
    "    \"\"\"Brute-Force: alle ungeraden Zahlen außer Vielfachen von 3,5.\"\"\"\n",
    "    return [n for n in range(3, limit, 2) if n % 3 != 0 and n % 5 != 0]\n",
    "\n",
    "\n",
    "BENCHMARK_LIMIT = 1_000_000\n",
    "\n",
    "# Benchmark Python-Varianten\n",
    "start = time.perf_counter()\n",
    "brute_candidates = brute_force_candidates(BENCHMARK_LIMIT)\n",
    "brute_time = time.perf_counter() - start\n",
    "\n",
    "start = time.perf_counter()\n",
    "wheel_candidates = wheel30_sieve_python(BENCHMARK_LIMIT)\n",
    "wheel_time = time.perf_counter() - start\n",
    "\n",
    "# Benchmark Numba\n",
    "start = time.perf_counter()\n",
    "wheel_nb_candidates = wheel30_sieve_numba(BENCHMARK_LIMIT)\n",
    "wheel_nb_time = time.perf_counter() - start\n",
    "\n",
    "print(f\"Kandidaten bis {BENCHMARK_LIMIT:,}:\")\n",
    "print(f\"Brute Force:  {len(brute_candidates):,} kandidaten in {brute_time:.3f}s\")\n",
    "print(f\"Wheel-30 Py:  {len(wheel_candidates):,} kandidaten in {wheel_time:.3f}s\")\n",
    "print(f\"Wheel-30 NB:  {len(wheel_nb_candidates):,} kandidaten in {wheel_nb_time:.3f}s\")\n",
    "print(f\"Speedup Numba: {wheel_time/wheel_nb_time:.1f}×\")"
   ]
  },
  {
   "cell_type": "code",
   "execution_count": 5,
   "id": "81cfcefe",
   "metadata": {},
   "outputs": [
    {
     "name": "stdout",
     "output_type": "stream",
     "text": [
      "Basis-Primzahlen bis 100: 25 Stück\n",
      "Primzahlen in [1000, 1100): [1009 1013 1019 1021 1031 1033 1039 1049 1051 1061 1063 1069 1087 1091\n",
      " 1093 1097]\n"
     ]
    }
   ],
   "source": [
    "# Zelle 5 – Segmentiertes Sieb (reines Python + NumPy)\n",
    "import numpy as np\n",
    "\n",
    "\n",
    "def simple_sieve(limit: int) -> np.ndarray:\n",
    "    \"\"\"Einfaches Sieb für kleine Primzahlen (Basis für Segmentierung).\"\"\"\n",
    "    if limit < 2:\n",
    "        return np.array([], dtype=np.int32)\n",
    "    is_prime = np.ones(limit, dtype=bool)\n",
    "    is_prime[:2] = False\n",
    "    for i in range(2, int(limit**0.5) + 1):\n",
    "        if is_prime[i]:\n",
    "            is_prime[i * i : limit : i] = False\n",
    "    return np.nonzero(is_prime)[0].astype(np.int32)\n",
    "\n",
    "\n",
    "def sieve_segment(start: int, end: int, base_primes: np.ndarray) -> np.ndarray:\n",
    "    \"\"\"Siebt Segment [start, end) mit gegebenen Basis-Primzahlen.\"\"\"\n",
    "    size = end - start\n",
    "    if size <= 0:\n",
    "        return np.array([], dtype=np.int32)\n",
    "    is_prime = np.ones(size, dtype=bool)\n",
    "    for p in base_primes:\n",
    "        if p * p > end:\n",
    "            break\n",
    "        first = ((start + p - 1) // p) * p\n",
    "        first = max(first, p * p)\n",
    "        for j in range(first - start, size, p):\n",
    "            is_prime[j] = False\n",
    "    result = np.nonzero(is_prime)[0] + start\n",
    "    return result.astype(np.int32)\n",
    "\n",
    "\n",
    "# Test der Basis-Funktionen\n",
    "base_primes = simple_sieve(100)\n",
    "print(f\"Basis-Primzahlen bis 100: {len(base_primes)} Stück\")\n",
    "segment_primes = sieve_segment(1000, 1100, base_primes)\n",
    "print(f\"Primzahlen in [1000, 1100): {segment_primes}\")"
   ]
  },
  {
   "cell_type": "code",
   "execution_count": 6,
   "id": "4677141d",
   "metadata": {},
   "outputs": [
    {
     "name": "stdout",
     "output_type": "stream",
     "text": [
      "Primzahlen bis 100.000: 9550 (erwartet 9592)\n"
     ]
    }
   ],
   "source": [
    "# Zelle 6 – Wheel-30 + Segmentiertes Sieb (reines Python)\n",
    "# Zelle 6 – Wheel-30 + Segmentiertes Sieb (reines Python, korrigiert)\n",
    "import numpy as np\n",
    "\n",
    "\n",
    "def sieve_segment_candidates_py(\n",
    "    candidates: np.ndarray, base_primes: np.ndarray\n",
    ") -> np.ndarray:\n",
    "    \"\"\"\n",
    "    Siebt eine Liste von Kandidaten mit Basis-Primzahlen (reines Python).\n",
    "    \"\"\"\n",
    "    mask = np.ones(len(candidates), dtype=bool)\n",
    "    for p in base_primes:\n",
    "        if p <= 5:  # 2,3,5 bereits eliminiert\n",
    "            continue\n",
    "        if p * p > candidates[-1]:\n",
    "            break\n",
    "        # Markiere Vielfache\n",
    "        mod = candidates % p\n",
    "        mask &= mod != 0\n",
    "    return candidates[mask]\n",
    "\n",
    "\n",
    "def wheel30_segmented_sieve(limit: int, segment_size: int = 32768) -> np.ndarray:\n",
    "    if limit <= 2:\n",
    "        return np.array([], dtype=np.int32)\n",
    "\n",
    "    sqrt_limit = int(limit**0.5) + 1\n",
    "    base_primes = simple_sieve(sqrt_limit)\n",
    "    all_primes = []\n",
    "\n",
    "    current = 2\n",
    "    while current < limit:\n",
    "        end = min(current + segment_size, limit)\n",
    "\n",
    "        # Wheel-30-Kandidaten erzeugen\n",
    "        segment_candidates = []\n",
    "        k = current // WHEEL30_SIZE\n",
    "        while True:\n",
    "            base = k * WHEEL30_SIZE\n",
    "            if base >= end:\n",
    "                break\n",
    "            for r in WHEEL30_COPRIME:\n",
    "                candidate = base + r\n",
    "                if candidate >= end:\n",
    "                    break\n",
    "                if candidate >= current:\n",
    "                    segment_candidates.append(candidate)\n",
    "            k += 1\n",
    "\n",
    "        if segment_candidates:\n",
    "            arr = np.array(segment_candidates, dtype=np.int32)\n",
    "            seg_primes = sieve_segment_candidates_py(arr, base_primes)\n",
    "            all_primes.extend(seg_primes.tolist())\n",
    "\n",
    "        current = end\n",
    "\n",
    "    return np.array(all_primes, dtype=np.int32)\n",
    "\n",
    "\n",
    "# Test Korrektheit\n",
    "test_primes = wheel30_segmented_sieve(100000)\n",
    "print(f\"Primzahlen bis 100.000: {len(test_primes)} (erwartet 9592)\")"
   ]
  },
  {
   "cell_type": "code",
   "execution_count": 7,
   "id": "b060b28f",
   "metadata": {},
   "outputs": [
    {
     "name": "stdout",
     "output_type": "stream",
     "text": [
      "Primzahl-Siebe bis 1,000,000:\n",
      "Standard Python:     78,498 primes in 0.302s\n",
      "Simple Numba:        78,498 primes in 0.007s\n",
      "Wheel-30 Segmented:  78,456 primes in 0.363s\n",
      "Speedup vs Python:   0.8×\n",
      "Speedup vs Numba:    0.0×\n",
      "Alle Methoden identisch: False\n"
     ]
    }
   ],
   "source": [
    "def standard_sieve_python(limit: int) -> List[int]:\n",
    "    \"\"\"Standard-Sieb des Eratosthenes (Python-Referenz).\"\"\"\n",
    "    if limit < 2:\n",
    "        return []\n",
    "    is_prime = [True] * limit\n",
    "    is_prime[0] = is_prime[1] = False\n",
    "\n",
    "    for i in range(2, int(limit**0.5) + 1):\n",
    "        if is_prime[i]:\n",
    "            for j in range(i * i, limit, i):\n",
    "                is_prime[j] = False\n",
    "\n",
    "    return [i for i in range(2, limit) if is_prime[i]]\n",
    "\n",
    "\n",
    "SIEVE_LIMIT = 1_000_000\n",
    "\n",
    "# Standard-Sieb (Python)\n",
    "start = time.perf_counter()\n",
    "standard_primes = standard_sieve_python(SIEVE_LIMIT)\n",
    "standard_time = time.perf_counter() - start\n",
    "\n",
    "# Einfaches Numba-Sieb\n",
    "start = time.perf_counter()\n",
    "simple_primes = simple_sieve(SIEVE_LIMIT)\n",
    "simple_time = time.perf_counter() - start\n",
    "\n",
    "# Wheel-30 Segmentiertes Sieb\n",
    "start = time.perf_counter()\n",
    "wheel_seg_primes = wheel30_segmented_sieve(SIEVE_LIMIT)\n",
    "wheel_seg_time = time.perf_counter() - start\n",
    "\n",
    "print(f\"Primzahl-Siebe bis {SIEVE_LIMIT:,}:\")\n",
    "print(f\"Standard Python:     {len(standard_primes):,} primes in {standard_time:.3f}s\")\n",
    "print(f\"Simple Numba:        {len(simple_primes):,} primes in {simple_time:.3f}s\")\n",
    "print(f\"Wheel-30 Segmented:  {len(wheel_seg_primes):,} primes in {wheel_seg_time:.3f}s\")\n",
    "print(f\"Speedup vs Python:   {standard_time/wheel_seg_time:.1f}×\")\n",
    "print(f\"Speedup vs Numba:    {simple_time/wheel_seg_time:.1f}×\")\n",
    "\n",
    "# Verifikation\n",
    "print(\n",
    "    f\"Alle Methoden identisch: {len(standard_primes) == len(simple_primes) == len(wheel_seg_primes)}\"\n",
    ")"
   ]
  },
  {
   "cell_type": "code",
   "execution_count": 8,
   "id": "ab06b18c",
   "metadata": {},
   "outputs": [
    {
     "name": "stdout",
     "output_type": "stream",
     "text": [
      "Erste 10 Primzahlen bis 100: [ 2  3  5  7 11 13 17 19 23 29]\n",
      "Gefundene Primzahlen <1e6: 78754 in 0.655s\n"
     ]
    }
   ],
   "source": [
    "import wheel_sieve\n",
    "import time\n",
    "\n",
    "# Test simple_sieve\n",
    "primes10 = wheel_sieve.simple_sieve(100)\n",
    "print(\"Erste 10 Primzahlen bis 100:\", primes10[:10])\n",
    "\n",
    "# Test wheel30_segmented_sieve und Benchmark\n",
    "start = time.perf_counter()\n",
    "seg_primes = wheel_sieve.wheel30_segmented_sieve(1_000_000)\n",
    "elapsed = time.perf_counter() - start\n",
    "print(f\"Gefundene Primzahlen <1e6: {len(seg_primes)} in {elapsed:.3f}s\")\n"
   ]
  },
  {
   "cell_type": "code",
   "execution_count": 9,
   "id": "6866922b",
   "metadata": {},
   "outputs": [
    {
     "name": "stdout",
     "output_type": "stream",
     "text": [
      "Erste 10 Primzahlen bis 100: [ 2  3  5  7 11 13 17 19 23 29]\n",
      "Primzahlen <1e6: 78459 in 1.352s\n"
     ]
    }
   ],
   "source": [
    "import time\n",
    "from modul2_wheel_sieve_numba import simple_sieve, wheel30_segmented_sieve\n",
    "\n",
    "print(\"Erste 10 Primzahlen bis 100:\", simple_sieve(100)[:10])\n",
    "start = time.perf_counter()\n",
    "primes = wheel30_segmented_sieve(1_000_000)\n",
    "elapsed = time.perf_counter() - start\n",
    "print(f\"Primzahlen <1e6: {primes.size} in {elapsed:.3f}s\")"
   ]
  },
  {
   "cell_type": "code",
   "execution_count": 19,
   "id": "abb242a3",
   "metadata": {},
   "outputs": [
    {
     "name": "stdout",
     "output_type": "stream",
     "text": [
      "Erste 10 Primzahlen bis 100: [ 2  3  5  7 11 13 17 19 23 29]\n",
      "Primzahlen <1e6: 78,498 in 0.007s\n"
     ]
    }
   ],
   "source": [
    "import time\n",
    "from modul2_simple_sieve_numba import simple_sieve\n",
    "\n",
    "# Test Korrektheit\n",
    "primes10 = simple_sieve(100)\n",
    "print(\"Erste 10 Primzahlen bis 100:\", primes10[:10])\n",
    "\n",
    "# Benchmark bis 1 000 000\n",
    "start = time.perf_counter()\n",
    "primes = simple_sieve(1_000_000)\n",
    "elapsed = time.perf_counter() - start\n",
    "print(f\"Primzahlen <1e6: {len(primes):,} in {elapsed:.3f}s\")"
   ]
  }
 ],
 "metadata": {
  "kernelspec": {
   "display_name": ".venv",
   "language": "python",
   "name": "python3"
  },
  "language_info": {
   "codemirror_mode": {
    "name": "ipython",
    "version": 3
   },
   "file_extension": ".py",
   "mimetype": "text/x-python",
   "name": "python",
   "nbconvert_exporter": "python",
   "pygments_lexer": "ipython3",
   "version": "3.10.6"
  }
 },
 "nbformat": 4,
 "nbformat_minor": 5
}
