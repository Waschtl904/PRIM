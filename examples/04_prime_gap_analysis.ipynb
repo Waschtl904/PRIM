{
  "cells": [
    {
      "cell_type": "markdown",
      "metadata": {},
      "source": [
        "# Modul 5 – Prime-Gap-Analyse\n",
        "\n",
        "Dieses Notebook berechnet die Abstände zwischen aufeinanderfolgenden Primzahlen bis N, visualisiert Histogramm und Scatter-Plot und exportiert die Ergebnisse."
      ]
    },
    {
      "cell_type": "code",
      "execution_count": 1,
      "metadata": {},
      "outputs": [
        {
          "ename": "NameError",
          "evalue": "name 'null' is not defined",
          "output_type": "error",
          "traceback": [
            "\u001b[1;31m---------------------------------------------------------------------------\u001b[0m",
            "\u001b[1;31mNameError\u001b[0m                                 Traceback (most recent call last)",
            "Cell \u001b[1;32mIn[1], line 14\u001b[0m\n\u001b[0;32m      1\u001b[0m {\n\u001b[0;32m      2\u001b[0m     \u001b[38;5;124m\"\u001b[39m\u001b[38;5;124mcells\u001b[39m\u001b[38;5;124m\"\u001b[39m: [\n\u001b[0;32m      3\u001b[0m         {\n\u001b[0;32m      4\u001b[0m             \u001b[38;5;124m\"\u001b[39m\u001b[38;5;124mcell_type\u001b[39m\u001b[38;5;124m\"\u001b[39m: \u001b[38;5;124m\"\u001b[39m\u001b[38;5;124mmarkdown\u001b[39m\u001b[38;5;124m\"\u001b[39m,\n\u001b[0;32m      5\u001b[0m             \u001b[38;5;124m\"\u001b[39m\u001b[38;5;124mmetadata\u001b[39m\u001b[38;5;124m\"\u001b[39m: {},\n\u001b[0;32m      6\u001b[0m             \u001b[38;5;124m\"\u001b[39m\u001b[38;5;124msource\u001b[39m\u001b[38;5;124m\"\u001b[39m: [\n\u001b[0;32m      7\u001b[0m                 \u001b[38;5;124m\"\u001b[39m\u001b[38;5;124m# Modul 5 – Prime-Gap-Analyse\u001b[39m\u001b[38;5;130;01m\\n\u001b[39;00m\u001b[38;5;124m\"\u001b[39m,\n\u001b[0;32m      8\u001b[0m                 \u001b[38;5;124m\"\u001b[39m\u001b[38;5;130;01m\\n\u001b[39;00m\u001b[38;5;124m\"\u001b[39m,\n\u001b[0;32m      9\u001b[0m                 \u001b[38;5;124m\"\u001b[39m\u001b[38;5;124mDieses Notebook berechnet die Abstände zwischen aufeinanderfolgenden Primzahlen bis N, visualisiert Histogramm und Scatter-Plot und exportiert die Ergebnisse.\u001b[39m\u001b[38;5;124m\"\u001b[39m,\n\u001b[0;32m     10\u001b[0m             ],\n\u001b[0;32m     11\u001b[0m         },\n\u001b[0;32m     12\u001b[0m         {\n\u001b[0;32m     13\u001b[0m             \u001b[38;5;124m\"\u001b[39m\u001b[38;5;124mcell_type\u001b[39m\u001b[38;5;124m\"\u001b[39m: \u001b[38;5;124m\"\u001b[39m\u001b[38;5;124mcode\u001b[39m\u001b[38;5;124m\"\u001b[39m,\n\u001b[1;32m---> 14\u001b[0m             \u001b[38;5;124m\"\u001b[39m\u001b[38;5;124mexecution_count\u001b[39m\u001b[38;5;124m\"\u001b[39m: \u001b[43mnull\u001b[49m,\n\u001b[0;32m     15\u001b[0m             \u001b[38;5;124m\"\u001b[39m\u001b[38;5;124mmetadata\u001b[39m\u001b[38;5;124m\"\u001b[39m: {},\n\u001b[0;32m     16\u001b[0m             \u001b[38;5;124m\"\u001b[39m\u001b[38;5;124moutputs\u001b[39m\u001b[38;5;124m\"\u001b[39m: [],\n\u001b[0;32m     17\u001b[0m             \u001b[38;5;124m\"\u001b[39m\u001b[38;5;124msource\u001b[39m\u001b[38;5;124m\"\u001b[39m: [\n\u001b[0;32m     18\u001b[0m                 \u001b[38;5;124m\"\u001b[39m\u001b[38;5;124mimport json\u001b[39m\u001b[38;5;130;01m\\n\u001b[39;00m\u001b[38;5;124m\"\u001b[39m,\n\u001b[0;32m     19\u001b[0m                 \u001b[38;5;124m\"\u001b[39m\u001b[38;5;124mimport numpy as np\u001b[39m\u001b[38;5;130;01m\\n\u001b[39;00m\u001b[38;5;124m\"\u001b[39m,\n\u001b[0;32m     20\u001b[0m                 \u001b[38;5;124m\"\u001b[39m\u001b[38;5;124mimport pandas as pd\u001b[39m\u001b[38;5;130;01m\\n\u001b[39;00m\u001b[38;5;124m\"\u001b[39m,\n\u001b[0;32m     21\u001b[0m                 \u001b[38;5;124m\"\u001b[39m\u001b[38;5;124mimport matplotlib.pyplot as plt\u001b[39m\u001b[38;5;130;01m\\n\u001b[39;00m\u001b[38;5;124m\"\u001b[39m,\n\u001b[0;32m     22\u001b[0m                 \u001b[38;5;124m\"\u001b[39m\u001b[38;5;124mfrom modul4_benchmarks import AdvancedBenchmarkAnalyzer\u001b[39m\u001b[38;5;130;01m\\n\u001b[39;00m\u001b[38;5;124m\"\u001b[39m,\n\u001b[0;32m     23\u001b[0m                 \u001b[38;5;124m\"\u001b[39m\u001b[38;5;130;01m\\n\u001b[39;00m\u001b[38;5;124m\"\u001b[39m,\n\u001b[0;32m     24\u001b[0m                 \u001b[38;5;124m\"\u001b[39m\u001b[38;5;124m# 1. Konfiguration laden\u001b[39m\u001b[38;5;130;01m\\n\u001b[39;00m\u001b[38;5;124m\"\u001b[39m,\n\u001b[0;32m     25\u001b[0m                 \u001b[38;5;124m\"\u001b[39m\u001b[38;5;124mcfg = json.load(open(\u001b[39m\u001b[38;5;124m'\u001b[39m\u001b[38;5;124mconfig.json\u001b[39m\u001b[38;5;124m'\u001b[39m\u001b[38;5;124m))\u001b[39m\u001b[38;5;130;01m\\n\u001b[39;00m\u001b[38;5;124m\"\u001b[39m,\n\u001b[0;32m     26\u001b[0m                 \u001b[38;5;124m\"\u001b[39m\u001b[38;5;124manalyzer = AdvancedBenchmarkAnalyzer(\u001b[39m\u001b[38;5;130;01m\\n\u001b[39;00m\u001b[38;5;124m\"\u001b[39m,\n\u001b[0;32m     27\u001b[0m                 \u001b[38;5;124m\"\u001b[39m\u001b[38;5;124m    use_numba=cfg[\u001b[39m\u001b[38;5;124m'\u001b[39m\u001b[38;5;124muse_numba\u001b[39m\u001b[38;5;124m'\u001b[39m\u001b[38;5;124m],\u001b[39m\u001b[38;5;130;01m\\n\u001b[39;00m\u001b[38;5;124m\"\u001b[39m,\n\u001b[0;32m     28\u001b[0m                 \u001b[38;5;124m\"\u001b[39m\u001b[38;5;124m    use_parallel=cfg[\u001b[39m\u001b[38;5;124m'\u001b[39m\u001b[38;5;124mparallel\u001b[39m\u001b[38;5;124m'\u001b[39m\u001b[38;5;124m],\u001b[39m\u001b[38;5;130;01m\\n\u001b[39;00m\u001b[38;5;124m\"\u001b[39m,\n\u001b[0;32m     29\u001b[0m                 \u001b[38;5;124m\"\u001b[39m\u001b[38;5;124m    use_cache=cfg[\u001b[39m\u001b[38;5;124m'\u001b[39m\u001b[38;5;124mcache\u001b[39m\u001b[38;5;124m'\u001b[39m\u001b[38;5;124m]\u001b[39m\u001b[38;5;130;01m\\n\u001b[39;00m\u001b[38;5;124m\"\u001b[39m,\n\u001b[0;32m     30\u001b[0m                 \u001b[38;5;124m\"\u001b[39m\u001b[38;5;124m)\u001b[39m\u001b[38;5;130;01m\\n\u001b[39;00m\u001b[38;5;124m\"\u001b[39m,\n\u001b[0;32m     31\u001b[0m                 \u001b[38;5;124m\"\u001b[39m\u001b[38;5;130;01m\\n\u001b[39;00m\u001b[38;5;124m\"\u001b[39m,\n\u001b[0;32m     32\u001b[0m                 \u001b[38;5;124m\"\u001b[39m\u001b[38;5;124m# 2. Parameter\u001b[39m\u001b[38;5;130;01m\\n\u001b[39;00m\u001b[38;5;124m\"\u001b[39m,\n\u001b[0;32m     33\u001b[0m                 \u001b[38;5;124m\"\u001b[39m\u001b[38;5;124mN = 10**6  # Obergrenze für Prime-Gap-Analyse\u001b[39m\u001b[38;5;130;01m\\n\u001b[39;00m\u001b[38;5;124m\"\u001b[39m,\n\u001b[0;32m     34\u001b[0m                 \u001b[38;5;124m\"\u001b[39m\u001b[38;5;130;01m\\n\u001b[39;00m\u001b[38;5;124m\"\u001b[39m,\n\u001b[0;32m     35\u001b[0m                 \u001b[38;5;124m\"\u001b[39m\u001b[38;5;124m# 3. Primzahlliste erzeugen\u001b[39m\u001b[38;5;130;01m\\n\u001b[39;00m\u001b[38;5;124m\"\u001b[39m,\n\u001b[0;32m     36\u001b[0m                 \u001b[38;5;124m\"\u001b[39m\u001b[38;5;124mprimes = analyzer.sieve_numba(N)\u001b[39m\u001b[38;5;130;01m\\n\u001b[39;00m\u001b[38;5;124m\"\u001b[39m,\n\u001b[0;32m     37\u001b[0m                 \u001b[38;5;124m\"\u001b[39m\u001b[38;5;130;01m\\n\u001b[39;00m\u001b[38;5;124m\"\u001b[39m,\n\u001b[0;32m     38\u001b[0m                 \u001b[38;5;124m\"\u001b[39m\u001b[38;5;124m# 4. Prime Gaps berechnen\u001b[39m\u001b[38;5;130;01m\\n\u001b[39;00m\u001b[38;5;124m\"\u001b[39m,\n\u001b[0;32m     39\u001b[0m                 \u001b[38;5;124m\"\u001b[39m\u001b[38;5;124mgaps = np.diff(primes)\u001b[39m\u001b[38;5;130;01m\\n\u001b[39;00m\u001b[38;5;124m\"\u001b[39m,\n\u001b[0;32m     40\u001b[0m                 \u001b[38;5;124m\"\u001b[39m\u001b[38;5;130;01m\\n\u001b[39;00m\u001b[38;5;124m\"\u001b[39m,\n\u001b[0;32m     41\u001b[0m                 \u001b[38;5;124m\"\u001b[39m\u001b[38;5;124m# 5. Statistik\u001b[39m\u001b[38;5;130;01m\\n\u001b[39;00m\u001b[38;5;124m\"\u001b[39m,\n\u001b[0;32m     42\u001b[0m                 \u001b[38;5;124m'\u001b[39m\u001b[38;5;124mprint(f\u001b[39m\u001b[38;5;124m\"\u001b[39m\u001b[38;5;124mMittelwert: \u001b[39m\u001b[38;5;124m{\u001b[39m\u001b[38;5;124mnp.mean(gaps):.3f}\u001b[39m\u001b[38;5;124m\"\u001b[39m\u001b[38;5;124m)\u001b[39m\u001b[38;5;130;01m\\n\u001b[39;00m\u001b[38;5;124m'\u001b[39m,\n\u001b[0;32m     43\u001b[0m                 \u001b[38;5;124m'\u001b[39m\u001b[38;5;124mprint(f\u001b[39m\u001b[38;5;124m\"\u001b[39m\u001b[38;5;124mMedian : \u001b[39m\u001b[38;5;124m{\u001b[39m\u001b[38;5;124mnp.median(gaps):.3f}\u001b[39m\u001b[38;5;124m\"\u001b[39m\u001b[38;5;124m)\u001b[39m\u001b[38;5;130;01m\\n\u001b[39;00m\u001b[38;5;124m'\u001b[39m,\n\u001b[0;32m     44\u001b[0m                 \u001b[38;5;124m'\u001b[39m\u001b[38;5;124mprint(f\u001b[39m\u001b[38;5;124m\"\u001b[39m\u001b[38;5;124mMax Gap: \u001b[39m\u001b[38;5;124m{\u001b[39m\u001b[38;5;124mnp.max(gaps)}\u001b[39m\u001b[38;5;124m\"\u001b[39m\u001b[38;5;124m)\u001b[39m\u001b[38;5;130;01m\\n\u001b[39;00m\u001b[38;5;124m'\u001b[39m,\n\u001b[0;32m     45\u001b[0m                 \u001b[38;5;124m\"\u001b[39m\u001b[38;5;130;01m\\n\u001b[39;00m\u001b[38;5;124m\"\u001b[39m,\n\u001b[0;32m     46\u001b[0m                 \u001b[38;5;124m\"\u001b[39m\u001b[38;5;124m# 6. Visualisierungen\u001b[39m\u001b[38;5;130;01m\\n\u001b[39;00m\u001b[38;5;124m\"\u001b[39m,\n\u001b[0;32m     47\u001b[0m                 \u001b[38;5;124m\"\u001b[39m\u001b[38;5;124mplt.figure(figsize=(8,4))\u001b[39m\u001b[38;5;130;01m\\n\u001b[39;00m\u001b[38;5;124m\"\u001b[39m,\n\u001b[0;32m     48\u001b[0m                 \u001b[38;5;124m\"\u001b[39m\u001b[38;5;124mplt.hist(gaps, bins=50, color=\u001b[39m\u001b[38;5;124m'\u001b[39m\u001b[38;5;124mskyblue\u001b[39m\u001b[38;5;124m'\u001b[39m\u001b[38;5;124m)\u001b[39m\u001b[38;5;130;01m\\n\u001b[39;00m\u001b[38;5;124m\"\u001b[39m,\n\u001b[0;32m     49\u001b[0m                 \u001b[38;5;124m\"\u001b[39m\u001b[38;5;124mplt.title(f\u001b[39m\u001b[38;5;124m'\u001b[39m\u001b[38;5;124mHistogramm der Prime Gaps bis N=\u001b[39m\u001b[38;5;132;01m{N:,}\u001b[39;00m\u001b[38;5;124m'\u001b[39m\u001b[38;5;124m)\u001b[39m\u001b[38;5;130;01m\\n\u001b[39;00m\u001b[38;5;124m\"\u001b[39m,\n\u001b[0;32m     50\u001b[0m                 \u001b[38;5;124m\"\u001b[39m\u001b[38;5;124mplt.xlabel(\u001b[39m\u001b[38;5;124m'\u001b[39m\u001b[38;5;124mGap\u001b[39m\u001b[38;5;124m'\u001b[39m\u001b[38;5;124m)\u001b[39m\u001b[38;5;130;01m\\n\u001b[39;00m\u001b[38;5;124m\"\u001b[39m,\n\u001b[0;32m     51\u001b[0m                 \u001b[38;5;124m\"\u001b[39m\u001b[38;5;124mplt.ylabel(\u001b[39m\u001b[38;5;124m'\u001b[39m\u001b[38;5;124mHäufigkeit\u001b[39m\u001b[38;5;124m'\u001b[39m\u001b[38;5;124m)\u001b[39m\u001b[38;5;130;01m\\n\u001b[39;00m\u001b[38;5;124m\"\u001b[39m,\n\u001b[0;32m     52\u001b[0m                 \u001b[38;5;124m\"\u001b[39m\u001b[38;5;124mplt.show()\u001b[39m\u001b[38;5;130;01m\\n\u001b[39;00m\u001b[38;5;124m\"\u001b[39m,\n\u001b[0;32m     53\u001b[0m                 \u001b[38;5;124m\"\u001b[39m\u001b[38;5;130;01m\\n\u001b[39;00m\u001b[38;5;124m\"\u001b[39m,\n\u001b[0;32m     54\u001b[0m                 \u001b[38;5;124m\"\u001b[39m\u001b[38;5;124mplt.figure(figsize=(8,4))\u001b[39m\u001b[38;5;130;01m\\n\u001b[39;00m\u001b[38;5;124m\"\u001b[39m,\n\u001b[0;32m     55\u001b[0m                 \u001b[38;5;124m\"\u001b[39m\u001b[38;5;124mplt.plot(primes[1:], gaps, \u001b[39m\u001b[38;5;124m'\u001b[39m\u001b[38;5;124m.\u001b[39m\u001b[38;5;124m'\u001b[39m\u001b[38;5;124m, markersize=2)\u001b[39m\u001b[38;5;130;01m\\n\u001b[39;00m\u001b[38;5;124m\"\u001b[39m,\n\u001b[0;32m     56\u001b[0m                 \u001b[38;5;124m\"\u001b[39m\u001b[38;5;124mplt.title(f\u001b[39m\u001b[38;5;124m'\u001b[39m\u001b[38;5;124mPrime Gap vs. Prime bis N=\u001b[39m\u001b[38;5;132;01m{N:,}\u001b[39;00m\u001b[38;5;124m'\u001b[39m\u001b[38;5;124m)\u001b[39m\u001b[38;5;130;01m\\n\u001b[39;00m\u001b[38;5;124m\"\u001b[39m,\n\u001b[0;32m     57\u001b[0m                 \u001b[38;5;124m\"\u001b[39m\u001b[38;5;124mplt.xlabel(\u001b[39m\u001b[38;5;124m'\u001b[39m\u001b[38;5;124mPrime\u001b[39m\u001b[38;5;124m'\u001b[39m\u001b[38;5;124m)\u001b[39m\u001b[38;5;130;01m\\n\u001b[39;00m\u001b[38;5;124m\"\u001b[39m,\n\u001b[0;32m     58\u001b[0m                 \u001b[38;5;124m\"\u001b[39m\u001b[38;5;124mplt.ylabel(\u001b[39m\u001b[38;5;124m'\u001b[39m\u001b[38;5;124mGap\u001b[39m\u001b[38;5;124m'\u001b[39m\u001b[38;5;124m)\u001b[39m\u001b[38;5;130;01m\\n\u001b[39;00m\u001b[38;5;124m\"\u001b[39m,\n\u001b[0;32m     59\u001b[0m                 \u001b[38;5;124m\"\u001b[39m\u001b[38;5;124mplt.show()\u001b[39m\u001b[38;5;124m\"\u001b[39m,\n\u001b[0;32m     60\u001b[0m             ],\n\u001b[0;32m     61\u001b[0m         },\n\u001b[0;32m     62\u001b[0m     ],\n\u001b[0;32m     63\u001b[0m     \u001b[38;5;124m\"\u001b[39m\u001b[38;5;124mmetadata\u001b[39m\u001b[38;5;124m\"\u001b[39m: {\n\u001b[0;32m     64\u001b[0m         \u001b[38;5;124m\"\u001b[39m\u001b[38;5;124mkernelspec\u001b[39m\u001b[38;5;124m\"\u001b[39m: {\n\u001b[0;32m     65\u001b[0m             \u001b[38;5;124m\"\u001b[39m\u001b[38;5;124mdisplay_name\u001b[39m\u001b[38;5;124m\"\u001b[39m: \u001b[38;5;124m\"\u001b[39m\u001b[38;5;124mPython 3\u001b[39m\u001b[38;5;124m\"\u001b[39m,\n\u001b[0;32m     66\u001b[0m             \u001b[38;5;124m\"\u001b[39m\u001b[38;5;124mlanguage\u001b[39m\u001b[38;5;124m\"\u001b[39m: \u001b[38;5;124m\"\u001b[39m\u001b[38;5;124mpython\u001b[39m\u001b[38;5;124m\"\u001b[39m,\n\u001b[0;32m     67\u001b[0m             \u001b[38;5;124m\"\u001b[39m\u001b[38;5;124mname\u001b[39m\u001b[38;5;124m\"\u001b[39m: \u001b[38;5;124m\"\u001b[39m\u001b[38;5;124mpython3\u001b[39m\u001b[38;5;124m\"\u001b[39m,\n\u001b[0;32m     68\u001b[0m         },\n\u001b[0;32m     69\u001b[0m         \u001b[38;5;124m\"\u001b[39m\u001b[38;5;124mlanguage_info\u001b[39m\u001b[38;5;124m\"\u001b[39m: {\u001b[38;5;124m\"\u001b[39m\u001b[38;5;124mname\u001b[39m\u001b[38;5;124m\"\u001b[39m: \u001b[38;5;124m\"\u001b[39m\u001b[38;5;124mpython\u001b[39m\u001b[38;5;124m\"\u001b[39m, \u001b[38;5;124m\"\u001b[39m\u001b[38;5;124mversion\u001b[39m\u001b[38;5;124m\"\u001b[39m: \u001b[38;5;124m\"\u001b[39m\u001b[38;5;124m3.10\u001b[39m\u001b[38;5;124m\"\u001b[39m},\n\u001b[0;32m     70\u001b[0m     },\n\u001b[0;32m     71\u001b[0m     \u001b[38;5;124m\"\u001b[39m\u001b[38;5;124mnbformat\u001b[39m\u001b[38;5;124m\"\u001b[39m: \u001b[38;5;241m4\u001b[39m,\n\u001b[0;32m     72\u001b[0m     \u001b[38;5;124m\"\u001b[39m\u001b[38;5;124mnbformat_minor\u001b[39m\u001b[38;5;124m\"\u001b[39m: \u001b[38;5;241m4\u001b[39m,\n\u001b[0;32m     73\u001b[0m }\n",
            "\u001b[1;31mNameError\u001b[0m: name 'null' is not defined"
          ]
        }
      ],
      "source": [
        "{\n",
        "    \"cells\": [\n",
        "        {\n",
        "            \"cell_type\": \"markdown\",\n",
        "            \"metadata\": {},\n",
        "            \"source\": [\n",
        "                \"# Modul 5 – Prime-Gap-Analyse\\n\",\n",
        "                \"\\n\",\n",
        "                \"Dieses Notebook berechnet die Abstände zwischen aufeinanderfolgenden Primzahlen bis N, visualisiert Histogramm und Scatter-Plot und exportiert die Ergebnisse.\",\n",
        "            ],\n",
        "        },\n",
        "        {\n",
        "            \"cell_type\": \"code\",\n",
        "            \"execution_count\": null,\n",
        "            \"metadata\": {},\n",
        "            \"outputs\": [],\n",
        "            \"source\": [\n",
        "                \"import json\\n\",\n",
        "                \"import numpy as np\\n\",\n",
        "                \"import pandas as pd\\n\",\n",
        "                \"import matplotlib.pyplot as plt\\n\",\n",
        "                \"from modul4_benchmarks import AdvancedBenchmarkAnalyzer\\n\",\n",
        "                \"\\n\",\n",
        "                \"# 1. Konfiguration laden\\n\",\n",
        "                \"cfg = json.load(open('config.json'))\\n\",\n",
        "                \"analyzer = AdvancedBenchmarkAnalyzer(\\n\",\n",
        "                \"    use_numba=cfg['use_numba'],\\n\",\n",
        "                \"    use_parallel=cfg['parallel'],\\n\",\n",
        "                \"    use_cache=cfg['cache']\\n\",\n",
        "                \")\\n\",\n",
        "                \"\\n\",\n",
        "                \"# 2. Parameter\\n\",\n",
        "                \"N = 10**6  # Obergrenze für Prime-Gap-Analyse\\n\",\n",
        "                \"\\n\",\n",
        "                \"# 3. Primzahlliste erzeugen\\n\",\n",
        "                \"primes = analyzer.sieve_numba(N)\\n\",\n",
        "                \"\\n\",\n",
        "                \"# 4. Prime Gaps berechnen\\n\",\n",
        "                \"gaps = np.diff(primes)\\n\",\n",
        "                \"\\n\",\n",
        "                \"# 5. Statistik\\n\",\n",
        "                'print(f\"Mittelwert: {np.mean(gaps):.3f}\")\\n',\n",
        "                'print(f\"Median : {np.median(gaps):.3f}\")\\n',\n",
        "                'print(f\"Max Gap: {np.max(gaps)}\")\\n',\n",
        "                \"\\n\",\n",
        "                \"# 6. Visualisierungen\\n\",\n",
        "                \"plt.figure(figsize=(8,4))\\n\",\n",
        "                \"plt.hist(gaps, bins=50, color='skyblue')\\n\",\n",
        "                \"plt.title(f'Histogramm der Prime Gaps bis N={N:,}')\\n\",\n",
        "                \"plt.xlabel('Gap')\\n\",\n",
        "                \"plt.ylabel('Häufigkeit')\\n\",\n",
        "                \"plt.show()\\n\",\n",
        "                \"\\n\",\n",
        "                \"plt.figure(figsize=(8,4))\\n\",\n",
        "                \"plt.plot(primes[1:], gaps, '.', markersize=2)\\n\",\n",
        "                \"plt.title(f'Prime Gap vs. Prime bis N={N:,}')\\n\",\n",
        "                \"plt.xlabel('Prime')\\n\",\n",
        "                \"plt.ylabel('Gap')\\n\",\n",
        "                \"plt.show()\",\n",
        "            ],\n",
        "        },\n",
        "    ],\n",
        "    \"metadata\": {\n",
        "        \"kernelspec\": {\n",
        "            \"display_name\": \"Python 3\",\n",
        "            \"language\": \"python\",\n",
        "            \"name\": \"python3\",\n",
        "        },\n",
        "        \"language_info\": {\"name\": \"python\", \"version\": \"3.10\"},\n",
        "    },\n",
        "    \"nbformat\": 4,\n",
        "    \"nbformat_minor\": 4,\n",
        "}"
      ]
    }
  ],
  "metadata": {
    "kernelspec": {
      "display_name": ".venv",
      "language": "python",
      "name": "python3"
    },
    "language_info": {
      "codemirror_mode": {
        "name": "ipython",
        "version": 3
      },
      "file_extension": ".py",
      "mimetype": "text/x-python",
      "name": "python",
      "nbconvert_exporter": "python",
      "pygments_lexer": "ipython3",
      "version": "3.10.6"
    }
  },
  "nbformat": 4,
  "nbformat_minor": 4
}
