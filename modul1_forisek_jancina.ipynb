{
  "cells": [
    {
      "cell_type": "code",
      "execution_count": 11,
      "id": "a01def06",
      "metadata": {},
      "outputs": [
        {
          "name": "stdout",
          "output_type": "stream",
          "text": [
            "Hash(123456789) = 116\n"
          ]
        }
      ],
      "source": [
        "def forisek_jancina_hash(x: int) -> int:\n",
        "    h = x & 0xFFFFFFFF\n",
        "    h = (((h >> 16) ^ h) * 0x45D9F3B) & 0xFFFFFFFF\n",
        "    h = (((h >> 16) ^ h) * 0x45D9F3B) & 0xFFFFFFFF\n",
        "    return ((h >> 16) ^ h) & 0xFF\n",
        "\n",
        "print(\"Hash(123456789) =\", forisek_jancina_hash(123456789))\n"
      ]
    },
    {
      "cell_type": "code",
      "execution_count": 12,
      "id": "ec794783",
      "metadata": {},
      "outputs": [
        {
          "name": "stdout",
          "output_type": "stream",
          "text": [
            "is_SPRP(101,2) = True\n"
          ]
        }
      ],
      "source": [
        "def is_SPRP(n: int, a: int) -> bool:\n",
        "    if n < 2:\n",
        "        return False\n",
        "    if n & 1 == 0:\n",
        "        return n == 2\n",
        "    d, s = n - 1, 0\n",
        "    while d & 1 == 0:\n",
        "        d >>= 1\n",
        "        s += 1\n",
        "    x = pow(a, d, n)\n",
        "    if x in (1, n - 1):\n",
        "        return True\n",
        "    for _ in range(s - 1):\n",
        "        x = (x * x) % n\n",
        "        if x == n - 1:\n",
        "            return True\n",
        "    return False\n",
        "\n",
        "\n",
        "print(\"is_SPRP(101,2) =\", is_SPRP(101, 2))"
      ]
    },
    {
      "cell_type": "code",
      "execution_count": 13,
      "id": "e020df6c",
      "metadata": {},
      "outputs": [
        {
          "name": "stdout",
          "output_type": "stream",
          "text": [
            "[True, False, True, False]\n"
          ]
        }
      ],
      "source": [
        "# globale Konstante als Tuple statt Liste\n",
        "MR_BASES_32BIT = (2, 7, 61)\n",
        "\n",
        "\n",
        "def fj32_is_prime(n: int) -> bool:\n",
        "    if n < 2:\n",
        "        return False\n",
        "    for p in (2, 3, 5, 7):\n",
        "        if n == p:\n",
        "            return True\n",
        "        if n % p == 0:\n",
        "            return False\n",
        "    h = forisek_jancina_hash(n)\n",
        "    base = MR_BASES_32BIT[h % len(MR_BASES_32BIT)]\n",
        "    return is_SPRP(n, base)\n",
        "\n",
        "\n",
        "print([fj32_is_prime(n) for n in (101, 102, 103, 104)])"
      ]
    },
    {
      "cell_type": "code",
      "execution_count": 14,
      "id": "b850f822",
      "metadata": {},
      "outputs": [
        {
          "name": "stdout",
          "output_type": "stream",
          "text": [
            "FJ32-Test:   0.055 M ops/s (1.81s total)\n",
            "Standard-MR: 0.055 M ops/s (1.81s total)\n",
            "Speedup: 1.96×\n"
          ]
        }
      ],
      "source": [
        "# Zelle 4 – Benchmark Forisek-Jančina vs. Standard-MR\n",
        "\n",
        "import random\n",
        "import time\n",
        "\n",
        "\n",
        "# Standard-Miller-Rabin für 32-Bit mit Basen 2,7,61\n",
        "def standard_mr_32(n: int) -> bool:\n",
        "    for a in MR_BASES_32BIT:\n",
        "        if not is_SPRP(n, a):\n",
        "            return False\n",
        "    return True\n",
        "\n",
        "\n",
        "# Testdaten: Zufällige ungerade 32-Bit-Zahlen\n",
        "TEST_COUNT = 100_000\n",
        "data = [random.randrange(3, 2**32, 2) for _ in range(TEST_COUNT)]\n",
        "\n",
        "# Warmup\n",
        "_ = fj32_is_prime(101)\n",
        "_ = standard_mr_32(101)\n",
        "\n",
        "# Benchmark FJ-Test\n",
        "start = time.perf_counter()\n",
        "for n in data:\n",
        "    fj32_is_prime(n)\n",
        "fj_time = time.perf_counter() - start\n",
        "\n",
        "# Benchmark Standard-MR\n",
        "start = time.perf_counter()\n",
        "for n in data:\n",
        "    standard_mr_32(n)\n",
        "mr_time = time.perf_counter() - start\n",
        "\n",
        "print(f\"FJ32-Test:   {TEST_COUNT/mr_time/1e6:.3f} M ops/s ({mr_time:.2f}s total)\")\n",
        "print(f\"Standard-MR: {TEST_COUNT/mr_time/1e6:.3f} M ops/s ({mr_time:.2f}s total)\")\n",
        "print(f\"Speedup: {mr_time/fj_time:.2f}×\")"
      ]
    },
    {
      "cell_type": "code",
      "execution_count": 15,
      "id": "5a4e01ed",
      "metadata": {},
      "outputs": [],
      "source": [
        "import numba as nb\n",
        "\n",
        "\n",
        "@nb.njit(cache=True)\n",
        "def modpow_nb(a: int, d: int, n: int) -> int:\n",
        "    result = 1\n",
        "    base = a % n\n",
        "    exp = d\n",
        "    while exp > 0:\n",
        "        if exp & 1:\n",
        "            result = (result * base) % n\n",
        "        base = (base * base) % n\n",
        "        exp >>= 1\n",
        "    return result\n",
        "\n",
        "\n",
        "@nb.njit(cache=True)\n",
        "def hash_nb(x: int) -> int:\n",
        "    h = x & 0xFFFFFFFF\n",
        "    h = (((h >> 16) ^ h) * 0x45D9F3B) & 0xFFFFFFFF\n",
        "    h = (((h >> 16) ^ h) * 0x45D9F3B) & 0xFFFFFFFF\n",
        "    return ((h >> 16) ^ h) & 0xFF\n",
        "\n",
        "\n",
        "@nb.njit(cache=True)\n",
        "def sprp_nb(n: int, a: int) -> nb.boolean:\n",
        "    if n < 2:\n",
        "        return False\n",
        "    if (n & 1) == 0:\n",
        "        return n == 2\n",
        "    d = n - 1\n",
        "    s = 0\n",
        "    while (d & 1) == 0:\n",
        "        d >>= 1\n",
        "        s += 1\n",
        "    x = modpow_nb(a, d, n)\n",
        "    if x == 1 or x == n - 1:\n",
        "        return True\n",
        "    for _ in range(s - 1):\n",
        "        x = (x * x) % n\n",
        "        if x == n - 1:\n",
        "            return True\n",
        "    return False\n",
        "\n",
        "\n",
        "@nb.njit(cache=True)\n",
        "def fj32_nb(n: int) -> nb.boolean:\n",
        "    if n < 2:\n",
        "        return False\n",
        "    # kleine Faktoren\n",
        "    if n % 2 == 0:\n",
        "        return n == 2\n",
        "    if n % 3 == 0:\n",
        "        return n == 3\n",
        "    if n % 5 == 0:\n",
        "        return n == 5\n",
        "    if n % 7 == 0:\n",
        "        return n == 7\n",
        "    h = hash_nb(n)\n",
        "    base = MR_BASES_32BIT[h % len(MR_BASES_32BIT)]\n",
        "    return sprp_nb(n, base)"
      ]
    },
    {
      "cell_type": "code",
      "execution_count": 16,
      "id": "cbfdf188",
      "metadata": {},
      "outputs": [
        {
          "name": "stdout",
          "output_type": "stream",
          "text": [
            "FJ32-Numba:   0.070 M ops/s (1.43s total)\n",
            "Standard-MR:  0.068 M ops/s (1.48s total)\n",
            "Speedup JIT:  1.03×\n"
          ]
        }
      ],
      "source": [
        "# Benchmark Zelle\n",
        "start = time.perf_counter()\n",
        "for n in data:\n",
        "    fj32_nb(n)\n",
        "fj_nb_time = time.perf_counter() - start\n",
        "\n",
        "start = time.perf_counter()\n",
        "for n in data:\n",
        "    standard_mr_32(n)\n",
        "mr_time = time.perf_counter() - start\n",
        "\n",
        "print(\n",
        "    f\"FJ32-Numba:   {TEST_COUNT/fj_nb_time/1e6:.3f} M ops/s ({fj_nb_time:.2f}s total)\"\n",
        ")\n",
        "print(f\"Standard-MR:  {TEST_COUNT/mr_time/1e6:.3f} M ops/s ({mr_time:.2f}s total)\")\n",
        "print(f\"Speedup JIT:  {mr_time/fj_nb_time:.2f}×\")"
      ]
    },
    {
      "cell_type": "code",
      "execution_count": 17,
      "id": "6b85c077",
      "metadata": {},
      "outputs": [
        {
          "name": "stdout",
          "output_type": "stream",
          "text": [
            "FJ32-Numba-Parallel: 0.271 M ops/s (0.37s total)\n"
          ]
        }
      ],
      "source": [
        "# Zelle 7 – Numba-Parallel-Benchmark\n",
        "from numba import prange\n",
        "\n",
        "\n",
        "@nb.njit(parallel=True, cache=True)\n",
        "def fj32_nb_parallel(arr):\n",
        "    count = 0\n",
        "    for i in prange(len(arr)):\n",
        "        if fj32_nb(arr[i]):\n",
        "            count += 1\n",
        "    return count\n",
        "\n",
        "\n",
        "# Aufbau der Daten bleibt gleich\n",
        "data = data  # bestehende Liste von zufälligen Zahlen\n",
        "\n",
        "# Parallel-Warmup\n",
        "_ = fj32_nb_parallel(data)\n",
        "\n",
        "# Parallel-Benchmark\n",
        "start = time.perf_counter()\n",
        "count = fj32_nb_parallel(data)\n",
        "fj_par_time = time.perf_counter() - start\n",
        "\n",
        "print(\n",
        "    f\"FJ32-Numba-Parallel: {TEST_COUNT/fj_par_time/1e6:.3f} M ops/s ({fj_par_time:.2f}s total)\"\n",
        ")"
      ]
    },
    {
      "cell_type": "code",
      "execution_count": 18,
      "id": "d72a4eb9",
      "metadata": {},
      "outputs": [
        {
          "name": "stdout",
          "output_type": "stream",
          "text": [
            "CFFI bereits installiert\n"
          ]
        },
        {
          "ename": "VerificationError",
          "evalue": "CompileError: command 'C:\\\\Program Files (x86)\\\\Microsoft Visual Studio\\\\2022\\\\BuildTools\\\\VC\\\\Tools\\\\MSVC\\\\14.44.35207\\\\bin\\\\HostX86\\\\x64\\\\cl.exe' failed with exit code 2",
          "output_type": "error",
          "traceback": [
            "\u001b[1;31m---------------------------------------------------------------------------\u001b[0m",
            "\u001b[1;31mCalledProcessError\u001b[0m                        Traceback (most recent call last)",
            "File \u001b[1;32mc:\\Users\\sebas\\Desktop\\coding\\PRIM\\.venv\\lib\\site-packages\\setuptools\\_distutils\\spawn.py:87\u001b[0m, in \u001b[0;36mspawn\u001b[1;34m(cmd, search_path, verbose, dry_run, env)\u001b[0m\n\u001b[0;32m     86\u001b[0m \u001b[38;5;28;01mtry\u001b[39;00m:\n\u001b[1;32m---> 87\u001b[0m     \u001b[43msubprocess\u001b[49m\u001b[38;5;241;43m.\u001b[39;49m\u001b[43mcheck_call\u001b[49m\u001b[43m(\u001b[49m\u001b[43mcmd\u001b[49m\u001b[43m,\u001b[49m\u001b[43m \u001b[49m\u001b[43menv\u001b[49m\u001b[38;5;241;43m=\u001b[39;49m\u001b[43m_inject_macos_ver\u001b[49m\u001b[43m(\u001b[49m\u001b[43menv\u001b[49m\u001b[43m)\u001b[49m\u001b[43m)\u001b[49m\n\u001b[0;32m     88\u001b[0m \u001b[38;5;28;01mexcept\u001b[39;00m \u001b[38;5;167;01mOSError\u001b[39;00m \u001b[38;5;28;01mas\u001b[39;00m exc:\n",
            "File \u001b[1;32m~\\AppData\\Local\\Programs\\Python\\Python310\\lib\\subprocess.py:369\u001b[0m, in \u001b[0;36mcheck_call\u001b[1;34m(*popenargs, **kwargs)\u001b[0m\n\u001b[0;32m    368\u001b[0m         cmd \u001b[38;5;241m=\u001b[39m popenargs[\u001b[38;5;241m0\u001b[39m]\n\u001b[1;32m--> 369\u001b[0m     \u001b[38;5;28;01mraise\u001b[39;00m CalledProcessError(retcode, cmd)\n\u001b[0;32m    370\u001b[0m \u001b[38;5;28;01mreturn\u001b[39;00m \u001b[38;5;241m0\u001b[39m\n",
            "\u001b[1;31mCalledProcessError\u001b[0m: Command '['C:\\\\Program Files (x86)\\\\Microsoft Visual Studio\\\\2022\\\\BuildTools\\\\VC\\\\Tools\\\\MSVC\\\\14.44.35207\\\\bin\\\\HostX86\\\\x64\\\\cl.exe', '/c', '/nologo', '/O2', '/W3', '/GL', '/DNDEBUG', '/MD', '-Ic:\\\\Users\\\\sebas\\\\Desktop\\\\coding\\\\PRIM\\\\.venv\\\\include', '-IC:\\\\Users\\\\sebas\\\\AppData\\\\Local\\\\Programs\\\\Python\\\\Python310\\\\include', '-IC:\\\\Users\\\\sebas\\\\AppData\\\\Local\\\\Programs\\\\Python\\\\Python310\\\\Include', '-IC:\\\\Program Files (x86)\\\\Microsoft Visual Studio\\\\2022\\\\BuildTools\\\\VC\\\\Tools\\\\MSVC\\\\14.44.35207\\\\include', '-IC:\\\\Program Files (x86)\\\\Microsoft Visual Studio\\\\2022\\\\BuildTools\\\\VC\\\\Tools\\\\MSVC\\\\14.44.35207\\\\ATLMFC\\\\include', '-IC:\\\\Program Files (x86)\\\\Microsoft Visual Studio\\\\2022\\\\BuildTools\\\\VC\\\\Auxiliary\\\\VS\\\\include', '-IC:\\\\Program Files (x86)\\\\Windows Kits\\\\10\\\\include\\\\10.0.26100.0\\\\ucrt', '-IC:\\\\Program Files (x86)\\\\Windows Kits\\\\10\\\\\\\\include\\\\10.0.26100.0\\\\\\\\um', '-IC:\\\\Program Files (x86)\\\\Windows Kits\\\\10\\\\\\\\include\\\\10.0.26100.0\\\\\\\\shared', '-IC:\\\\Program Files (x86)\\\\Windows Kits\\\\10\\\\\\\\include\\\\10.0.26100.0\\\\\\\\winrt', '-IC:\\\\Program Files (x86)\\\\Windows Kits\\\\10\\\\\\\\include\\\\10.0.26100.0\\\\\\\\cppwinrt', '-IC:\\\\Program Files (x86)\\\\Windows Kits\\\\NETFXSDK\\\\4.8\\\\include\\\\um', '/Tc_fj32_c.c', '/Fo.\\\\Release\\\\_fj32_c.obj']' returned non-zero exit status 2.",
            "\nThe above exception was the direct cause of the following exception:\n",
            "\u001b[1;31mDistutilsExecError\u001b[0m                        Traceback (most recent call last)",
            "File \u001b[1;32mc:\\Users\\sebas\\Desktop\\coding\\PRIM\\.venv\\lib\\site-packages\\setuptools\\_distutils\\compilers\\C\\msvc.py:460\u001b[0m, in \u001b[0;36mCompiler.compile\u001b[1;34m(self, sources, output_dir, macros, include_dirs, debug, extra_preargs, extra_postargs, depends)\u001b[0m\n\u001b[0;32m    459\u001b[0m \u001b[38;5;28;01mtry\u001b[39;00m:\n\u001b[1;32m--> 460\u001b[0m     \u001b[38;5;28;43mself\u001b[39;49m\u001b[38;5;241;43m.\u001b[39;49m\u001b[43mspawn\u001b[49m\u001b[43m(\u001b[49m\u001b[43margs\u001b[49m\u001b[43m)\u001b[49m\n\u001b[0;32m    461\u001b[0m \u001b[38;5;28;01mexcept\u001b[39;00m DistutilsExecError \u001b[38;5;28;01mas\u001b[39;00m msg:\n",
            "File \u001b[1;32mc:\\Users\\sebas\\Desktop\\coding\\PRIM\\.venv\\lib\\site-packages\\setuptools\\_distutils\\compilers\\C\\msvc.py:563\u001b[0m, in \u001b[0;36mCompiler.spawn\u001b[1;34m(self, cmd)\u001b[0m\n\u001b[0;32m    562\u001b[0m \u001b[38;5;28;01mwith\u001b[39;00m \u001b[38;5;28mself\u001b[39m\u001b[38;5;241m.\u001b[39m_fallback_spawn(cmd, env) \u001b[38;5;28;01mas\u001b[39;00m fallback:\n\u001b[1;32m--> 563\u001b[0m     \u001b[38;5;28;01mreturn\u001b[39;00m \u001b[38;5;28;43msuper\u001b[39;49m\u001b[43m(\u001b[49m\u001b[43m)\u001b[49m\u001b[38;5;241;43m.\u001b[39;49m\u001b[43mspawn\u001b[49m\u001b[43m(\u001b[49m\u001b[43mcmd\u001b[49m\u001b[43m,\u001b[49m\u001b[43m \u001b[49m\u001b[43menv\u001b[49m\u001b[38;5;241;43m=\u001b[39;49m\u001b[43menv\u001b[49m\u001b[43m)\u001b[49m\n\u001b[0;32m    564\u001b[0m \u001b[38;5;28;01mreturn\u001b[39;00m fallback\u001b[38;5;241m.\u001b[39mvalue\n",
            "File \u001b[1;32mc:\\Users\\sebas\\Desktop\\coding\\PRIM\\.venv\\lib\\site-packages\\setuptools\\_distutils\\compilers\\C\\base.py:1158\u001b[0m, in \u001b[0;36mCompiler.spawn\u001b[1;34m(self, cmd, **kwargs)\u001b[0m\n\u001b[0;32m   1155\u001b[0m \u001b[38;5;28;01mdef\u001b[39;00m\u001b[38;5;250m \u001b[39m\u001b[38;5;21mspawn\u001b[39m(\n\u001b[0;32m   1156\u001b[0m     \u001b[38;5;28mself\u001b[39m, cmd: MutableSequence[\u001b[38;5;28mbytes\u001b[39m \u001b[38;5;241m|\u001b[39m \u001b[38;5;28mstr\u001b[39m \u001b[38;5;241m|\u001b[39m os\u001b[38;5;241m.\u001b[39mPathLike[\u001b[38;5;28mstr\u001b[39m]], \u001b[38;5;241m*\u001b[39m\u001b[38;5;241m*\u001b[39mkwargs\n\u001b[0;32m   1157\u001b[0m ) \u001b[38;5;241m-\u001b[39m\u001b[38;5;241m>\u001b[39m \u001b[38;5;28;01mNone\u001b[39;00m:\n\u001b[1;32m-> 1158\u001b[0m     spawn(cmd, dry_run\u001b[38;5;241m=\u001b[39m\u001b[38;5;28mself\u001b[39m\u001b[38;5;241m.\u001b[39mdry_run, \u001b[38;5;241m*\u001b[39m\u001b[38;5;241m*\u001b[39mkwargs)\n",
            "File \u001b[1;32mc:\\Users\\sebas\\Desktop\\coding\\PRIM\\.venv\\lib\\site-packages\\setuptools\\_distutils\\spawn.py:93\u001b[0m, in \u001b[0;36mspawn\u001b[1;34m(cmd, search_path, verbose, dry_run, env)\u001b[0m\n\u001b[0;32m     92\u001b[0m \u001b[38;5;28;01mexcept\u001b[39;00m subprocess\u001b[38;5;241m.\u001b[39mCalledProcessError \u001b[38;5;28;01mas\u001b[39;00m err:\n\u001b[1;32m---> 93\u001b[0m     \u001b[38;5;28;01mraise\u001b[39;00m DistutilsExecError(\n\u001b[0;32m     94\u001b[0m         \u001b[38;5;124mf\u001b[39m\u001b[38;5;124m\"\u001b[39m\u001b[38;5;124mcommand \u001b[39m\u001b[38;5;132;01m{\u001b[39;00m_debug(cmd)\u001b[38;5;132;01m!r}\u001b[39;00m\u001b[38;5;124m failed with exit code \u001b[39m\u001b[38;5;132;01m{\u001b[39;00merr\u001b[38;5;241m.\u001b[39mreturncode\u001b[38;5;132;01m}\u001b[39;00m\u001b[38;5;124m\"\u001b[39m\n\u001b[0;32m     95\u001b[0m     ) \u001b[38;5;28;01mfrom\u001b[39;00m\u001b[38;5;250m \u001b[39m\u001b[38;5;21;01merr\u001b[39;00m\n",
            "\u001b[1;31mDistutilsExecError\u001b[0m: command 'C:\\\\Program Files (x86)\\\\Microsoft Visual Studio\\\\2022\\\\BuildTools\\\\VC\\\\Tools\\\\MSVC\\\\14.44.35207\\\\bin\\\\HostX86\\\\x64\\\\cl.exe' failed with exit code 2",
            "\nDuring handling of the above exception, another exception occurred:\n",
            "\u001b[1;31mCompileError\u001b[0m                              Traceback (most recent call last)",
            "File \u001b[1;32mc:\\Users\\sebas\\Desktop\\coding\\PRIM\\.venv\\lib\\site-packages\\cffi\\ffiplatform.py:48\u001b[0m, in \u001b[0;36m_build\u001b[1;34m(tmpdir, ext, compiler_verbose, debug)\u001b[0m\n\u001b[0;32m     47\u001b[0m set_verbosity(compiler_verbose)\n\u001b[1;32m---> 48\u001b[0m \u001b[43mdist\u001b[49m\u001b[38;5;241;43m.\u001b[39;49m\u001b[43mrun_command\u001b[49m\u001b[43m(\u001b[49m\u001b[38;5;124;43m'\u001b[39;49m\u001b[38;5;124;43mbuild_ext\u001b[39;49m\u001b[38;5;124;43m'\u001b[39;49m\u001b[43m)\u001b[49m\n\u001b[0;32m     49\u001b[0m cmd_obj \u001b[38;5;241m=\u001b[39m dist\u001b[38;5;241m.\u001b[39mget_command_obj(\u001b[38;5;124m'\u001b[39m\u001b[38;5;124mbuild_ext\u001b[39m\u001b[38;5;124m'\u001b[39m)\n",
            "File \u001b[1;32mc:\\Users\\sebas\\Desktop\\coding\\PRIM\\.venv\\lib\\site-packages\\setuptools\\dist.py:1102\u001b[0m, in \u001b[0;36mDistribution.run_command\u001b[1;34m(self, command)\u001b[0m\n\u001b[0;32m   1099\u001b[0m \u001b[38;5;66;03m# Postpone defaults until all explicit configuration is considered\u001b[39;00m\n\u001b[0;32m   1100\u001b[0m \u001b[38;5;66;03m# (setup() args, config files, command line and plugins)\u001b[39;00m\n\u001b[1;32m-> 1102\u001b[0m \u001b[38;5;28;43msuper\u001b[39;49m\u001b[43m(\u001b[49m\u001b[43m)\u001b[49m\u001b[38;5;241;43m.\u001b[39;49m\u001b[43mrun_command\u001b[49m\u001b[43m(\u001b[49m\u001b[43mcommand\u001b[49m\u001b[43m)\u001b[49m\n",
            "File \u001b[1;32mc:\\Users\\sebas\\Desktop\\coding\\PRIM\\.venv\\lib\\site-packages\\setuptools\\_distutils\\dist.py:1021\u001b[0m, in \u001b[0;36mDistribution.run_command\u001b[1;34m(self, command)\u001b[0m\n\u001b[0;32m   1020\u001b[0m cmd_obj\u001b[38;5;241m.\u001b[39mensure_finalized()\n\u001b[1;32m-> 1021\u001b[0m \u001b[43mcmd_obj\u001b[49m\u001b[38;5;241;43m.\u001b[39;49m\u001b[43mrun\u001b[49m\u001b[43m(\u001b[49m\u001b[43m)\u001b[49m\n\u001b[0;32m   1022\u001b[0m \u001b[38;5;28mself\u001b[39m\u001b[38;5;241m.\u001b[39mhave_run[command] \u001b[38;5;241m=\u001b[39m \u001b[38;5;28;01mTrue\u001b[39;00m\n",
            "File \u001b[1;32mc:\\Users\\sebas\\Desktop\\coding\\PRIM\\.venv\\lib\\site-packages\\setuptools\\command\\build_ext.py:96\u001b[0m, in \u001b[0;36mbuild_ext.run\u001b[1;34m(self)\u001b[0m\n\u001b[0;32m     95\u001b[0m old_inplace, \u001b[38;5;28mself\u001b[39m\u001b[38;5;241m.\u001b[39minplace \u001b[38;5;241m=\u001b[39m \u001b[38;5;28mself\u001b[39m\u001b[38;5;241m.\u001b[39minplace, \u001b[38;5;28;01mFalse\u001b[39;00m\n\u001b[1;32m---> 96\u001b[0m \u001b[43m_build_ext\u001b[49m\u001b[38;5;241;43m.\u001b[39;49m\u001b[43mrun\u001b[49m\u001b[43m(\u001b[49m\u001b[38;5;28;43mself\u001b[39;49m\u001b[43m)\u001b[49m\n\u001b[0;32m     97\u001b[0m \u001b[38;5;28mself\u001b[39m\u001b[38;5;241m.\u001b[39minplace \u001b[38;5;241m=\u001b[39m old_inplace\n",
            "File \u001b[1;32mc:\\Users\\sebas\\Desktop\\coding\\PRIM\\.venv\\lib\\site-packages\\setuptools\\_distutils\\command\\build_ext.py:368\u001b[0m, in \u001b[0;36mbuild_ext.run\u001b[1;34m(self)\u001b[0m\n\u001b[0;32m    367\u001b[0m \u001b[38;5;66;03m# Now actually compile and link everything.\u001b[39;00m\n\u001b[1;32m--> 368\u001b[0m \u001b[38;5;28;43mself\u001b[39;49m\u001b[38;5;241;43m.\u001b[39;49m\u001b[43mbuild_extensions\u001b[49m\u001b[43m(\u001b[49m\u001b[43m)\u001b[49m\n",
            "File \u001b[1;32mc:\\Users\\sebas\\Desktop\\coding\\PRIM\\.venv\\lib\\site-packages\\setuptools\\_distutils\\command\\build_ext.py:484\u001b[0m, in \u001b[0;36mbuild_ext.build_extensions\u001b[1;34m(self)\u001b[0m\n\u001b[0;32m    483\u001b[0m \u001b[38;5;28;01melse\u001b[39;00m:\n\u001b[1;32m--> 484\u001b[0m     \u001b[38;5;28;43mself\u001b[39;49m\u001b[38;5;241;43m.\u001b[39;49m\u001b[43m_build_extensions_serial\u001b[49m\u001b[43m(\u001b[49m\u001b[43m)\u001b[49m\n",
            "File \u001b[1;32mc:\\Users\\sebas\\Desktop\\coding\\PRIM\\.venv\\lib\\site-packages\\setuptools\\_distutils\\command\\build_ext.py:510\u001b[0m, in \u001b[0;36mbuild_ext._build_extensions_serial\u001b[1;34m(self)\u001b[0m\n\u001b[0;32m    509\u001b[0m \u001b[38;5;28;01mwith\u001b[39;00m \u001b[38;5;28mself\u001b[39m\u001b[38;5;241m.\u001b[39m_filter_build_errors(ext):\n\u001b[1;32m--> 510\u001b[0m     \u001b[38;5;28;43mself\u001b[39;49m\u001b[38;5;241;43m.\u001b[39;49m\u001b[43mbuild_extension\u001b[49m\u001b[43m(\u001b[49m\u001b[43mext\u001b[49m\u001b[43m)\u001b[49m\n",
            "File \u001b[1;32mc:\\Users\\sebas\\Desktop\\coding\\PRIM\\.venv\\lib\\site-packages\\setuptools\\command\\build_ext.py:261\u001b[0m, in \u001b[0;36mbuild_ext.build_extension\u001b[1;34m(self, ext)\u001b[0m\n\u001b[0;32m    260\u001b[0m     \u001b[38;5;28mself\u001b[39m\u001b[38;5;241m.\u001b[39mcompiler \u001b[38;5;241m=\u001b[39m \u001b[38;5;28mself\u001b[39m\u001b[38;5;241m.\u001b[39mshlib_compiler\n\u001b[1;32m--> 261\u001b[0m \u001b[43m_build_ext\u001b[49m\u001b[38;5;241;43m.\u001b[39;49m\u001b[43mbuild_extension\u001b[49m\u001b[43m(\u001b[49m\u001b[38;5;28;43mself\u001b[39;49m\u001b[43m,\u001b[49m\u001b[43m \u001b[49m\u001b[43mext\u001b[49m\u001b[43m)\u001b[49m\n\u001b[0;32m    262\u001b[0m \u001b[38;5;28;01mif\u001b[39;00m ext\u001b[38;5;241m.\u001b[39m_needs_stub:\n",
            "File \u001b[1;32mc:\\Users\\sebas\\Desktop\\coding\\PRIM\\.venv\\lib\\site-packages\\setuptools\\_distutils\\command\\build_ext.py:565\u001b[0m, in \u001b[0;36mbuild_ext.build_extension\u001b[1;34m(self, ext)\u001b[0m\n\u001b[0;32m    563\u001b[0m     macros\u001b[38;5;241m.\u001b[39mappend((undef,))\n\u001b[1;32m--> 565\u001b[0m objects \u001b[38;5;241m=\u001b[39m \u001b[38;5;28;43mself\u001b[39;49m\u001b[38;5;241;43m.\u001b[39;49m\u001b[43mcompiler\u001b[49m\u001b[38;5;241;43m.\u001b[39;49m\u001b[43mcompile\u001b[49m\u001b[43m(\u001b[49m\n\u001b[0;32m    566\u001b[0m \u001b[43m    \u001b[49m\u001b[43msources\u001b[49m\u001b[43m,\u001b[49m\n\u001b[0;32m    567\u001b[0m \u001b[43m    \u001b[49m\u001b[43moutput_dir\u001b[49m\u001b[38;5;241;43m=\u001b[39;49m\u001b[38;5;28;43mself\u001b[39;49m\u001b[38;5;241;43m.\u001b[39;49m\u001b[43mbuild_temp\u001b[49m\u001b[43m,\u001b[49m\n\u001b[0;32m    568\u001b[0m \u001b[43m    \u001b[49m\u001b[43mmacros\u001b[49m\u001b[38;5;241;43m=\u001b[39;49m\u001b[43mmacros\u001b[49m\u001b[43m,\u001b[49m\n\u001b[0;32m    569\u001b[0m \u001b[43m    \u001b[49m\u001b[43minclude_dirs\u001b[49m\u001b[38;5;241;43m=\u001b[39;49m\u001b[43mext\u001b[49m\u001b[38;5;241;43m.\u001b[39;49m\u001b[43minclude_dirs\u001b[49m\u001b[43m,\u001b[49m\n\u001b[0;32m    570\u001b[0m \u001b[43m    \u001b[49m\u001b[43mdebug\u001b[49m\u001b[38;5;241;43m=\u001b[39;49m\u001b[38;5;28;43mself\u001b[39;49m\u001b[38;5;241;43m.\u001b[39;49m\u001b[43mdebug\u001b[49m\u001b[43m,\u001b[49m\n\u001b[0;32m    571\u001b[0m \u001b[43m    \u001b[49m\u001b[43mextra_postargs\u001b[49m\u001b[38;5;241;43m=\u001b[39;49m\u001b[43mextra_args\u001b[49m\u001b[43m,\u001b[49m\n\u001b[0;32m    572\u001b[0m \u001b[43m    \u001b[49m\u001b[43mdepends\u001b[49m\u001b[38;5;241;43m=\u001b[39;49m\u001b[43mext\u001b[49m\u001b[38;5;241;43m.\u001b[39;49m\u001b[43mdepends\u001b[49m\u001b[43m,\u001b[49m\n\u001b[0;32m    573\u001b[0m \u001b[43m\u001b[49m\u001b[43m)\u001b[49m\n\u001b[0;32m    575\u001b[0m \u001b[38;5;66;03m# XXX outdated variable, kept here in case third-part code\u001b[39;00m\n\u001b[0;32m    576\u001b[0m \u001b[38;5;66;03m# needs it.\u001b[39;00m\n",
            "File \u001b[1;32mc:\\Users\\sebas\\Desktop\\coding\\PRIM\\.venv\\lib\\site-packages\\setuptools\\_distutils\\compilers\\C\\msvc.py:462\u001b[0m, in \u001b[0;36mCompiler.compile\u001b[1;34m(self, sources, output_dir, macros, include_dirs, debug, extra_preargs, extra_postargs, depends)\u001b[0m\n\u001b[0;32m    461\u001b[0m     \u001b[38;5;28;01mexcept\u001b[39;00m DistutilsExecError \u001b[38;5;28;01mas\u001b[39;00m msg:\n\u001b[1;32m--> 462\u001b[0m         \u001b[38;5;28;01mraise\u001b[39;00m CompileError(msg)\n\u001b[0;32m    464\u001b[0m \u001b[38;5;28;01mreturn\u001b[39;00m objects\n",
            "\u001b[1;31mCompileError\u001b[0m: command 'C:\\\\Program Files (x86)\\\\Microsoft Visual Studio\\\\2022\\\\BuildTools\\\\VC\\\\Tools\\\\MSVC\\\\14.44.35207\\\\bin\\\\HostX86\\\\x64\\\\cl.exe' failed with exit code 2",
            "\nDuring handling of the above exception, another exception occurred:\n",
            "\u001b[1;31mVerificationError\u001b[0m                         Traceback (most recent call last)",
            "Cell \u001b[1;32mIn[18], line 80\u001b[0m\n\u001b[0;32m     72\u001b[0m ffibuilder\u001b[38;5;241m.\u001b[39mcdef(\n\u001b[0;32m     73\u001b[0m \u001b[38;5;250m    \u001b[39m\u001b[38;5;124;03m\"\"\"\u001b[39;00m\n\u001b[0;32m     74\u001b[0m \u001b[38;5;124;03m    uint32_t fj_hash_c(uint32_t x);\u001b[39;00m\n\u001b[0;32m     75\u001b[0m \u001b[38;5;124;03m    int fj32_c(uint32_t n);\u001b[39;00m\n\u001b[0;32m     76\u001b[0m \u001b[38;5;124;03m\"\"\"\u001b[39;00m\n\u001b[0;32m     77\u001b[0m )\n\u001b[0;32m     79\u001b[0m ffibuilder\u001b[38;5;241m.\u001b[39mset_source(\u001b[38;5;124m\"\u001b[39m\u001b[38;5;124m_fj32_c\u001b[39m\u001b[38;5;124m\"\u001b[39m, c_source)\n\u001b[1;32m---> 80\u001b[0m \u001b[43mffibuilder\u001b[49m\u001b[38;5;241;43m.\u001b[39;49m\u001b[43mcompile\u001b[49m\u001b[43m(\u001b[49m\u001b[43mtmpdir\u001b[49m\u001b[38;5;241;43m=\u001b[39;49m\u001b[38;5;124;43m\"\u001b[39;49m\u001b[38;5;124;43m.\u001b[39;49m\u001b[38;5;124;43m\"\u001b[39;49m\u001b[43m)\u001b[49m\n\u001b[0;32m     82\u001b[0m \u001b[38;5;28mprint\u001b[39m(\u001b[38;5;124m\"\u001b[39m\u001b[38;5;124mC-Extension kompiliert\u001b[39m\u001b[38;5;124m\"\u001b[39m)\n",
            "File \u001b[1;32mc:\\Users\\sebas\\Desktop\\coding\\PRIM\\.venv\\lib\\site-packages\\cffi\\api.py:727\u001b[0m, in \u001b[0;36mFFI.compile\u001b[1;34m(self, tmpdir, verbose, target, debug)\u001b[0m\n\u001b[0;32m    725\u001b[0m     \u001b[38;5;28;01mraise\u001b[39;00m \u001b[38;5;167;01mValueError\u001b[39;00m(\u001b[38;5;124m\"\u001b[39m\u001b[38;5;124mset_source() must be called before compile()\u001b[39m\u001b[38;5;124m\"\u001b[39m)\n\u001b[0;32m    726\u001b[0m module_name, source, source_extension, kwds \u001b[38;5;241m=\u001b[39m \u001b[38;5;28mself\u001b[39m\u001b[38;5;241m.\u001b[39m_assigned_source\n\u001b[1;32m--> 727\u001b[0m \u001b[38;5;28;01mreturn\u001b[39;00m recompile(\u001b[38;5;28mself\u001b[39m, module_name, source, tmpdir\u001b[38;5;241m=\u001b[39mtmpdir,\n\u001b[0;32m    728\u001b[0m                  target\u001b[38;5;241m=\u001b[39mtarget, source_extension\u001b[38;5;241m=\u001b[39msource_extension,\n\u001b[0;32m    729\u001b[0m                  compiler_verbose\u001b[38;5;241m=\u001b[39mverbose, debug\u001b[38;5;241m=\u001b[39mdebug, \u001b[38;5;241m*\u001b[39m\u001b[38;5;241m*\u001b[39mkwds)\n",
            "File \u001b[1;32mc:\\Users\\sebas\\Desktop\\coding\\PRIM\\.venv\\lib\\site-packages\\cffi\\recompiler.py:1581\u001b[0m, in \u001b[0;36mrecompile\u001b[1;34m(ffi, module_name, preamble, tmpdir, call_c_compiler, c_file, source_extension, extradir, compiler_verbose, target, debug, uses_ffiplatform, **kwds)\u001b[0m\n\u001b[0;32m   1579\u001b[0m         \u001b[38;5;28mprint\u001b[39m(\u001b[38;5;124m'\u001b[39m\u001b[38;5;132;01m%s\u001b[39;00m\u001b[38;5;124m \u001b[39m\u001b[38;5;132;01m%r\u001b[39;00m\u001b[38;5;124m'\u001b[39m \u001b[38;5;241m%\u001b[39m (msg, os\u001b[38;5;241m.\u001b[39mpath\u001b[38;5;241m.\u001b[39mabspath(tmpdir)))\n\u001b[0;32m   1580\u001b[0m     os\u001b[38;5;241m.\u001b[39mchdir(tmpdir)\n\u001b[1;32m-> 1581\u001b[0m     outputfilename \u001b[38;5;241m=\u001b[39m \u001b[43mffiplatform\u001b[49m\u001b[38;5;241;43m.\u001b[39;49m\u001b[43mcompile\u001b[49m\u001b[43m(\u001b[49m\u001b[38;5;124;43m'\u001b[39;49m\u001b[38;5;124;43m.\u001b[39;49m\u001b[38;5;124;43m'\u001b[39;49m\u001b[43m,\u001b[49m\u001b[43m \u001b[49m\u001b[43mext\u001b[49m\u001b[43m,\u001b[49m\n\u001b[0;32m   1582\u001b[0m \u001b[43m                                         \u001b[49m\u001b[43mcompiler_verbose\u001b[49m\u001b[43m,\u001b[49m\u001b[43m \u001b[49m\u001b[43mdebug\u001b[49m\u001b[43m)\u001b[49m\n\u001b[0;32m   1583\u001b[0m \u001b[38;5;28;01mfinally\u001b[39;00m:\n\u001b[0;32m   1584\u001b[0m     os\u001b[38;5;241m.\u001b[39mchdir(cwd)\n",
            "File \u001b[1;32mc:\\Users\\sebas\\Desktop\\coding\\PRIM\\.venv\\lib\\site-packages\\cffi\\ffiplatform.py:20\u001b[0m, in \u001b[0;36mcompile\u001b[1;34m(tmpdir, ext, compiler_verbose, debug)\u001b[0m\n\u001b[0;32m     18\u001b[0m saved_environ \u001b[38;5;241m=\u001b[39m os\u001b[38;5;241m.\u001b[39menviron\u001b[38;5;241m.\u001b[39mcopy()\n\u001b[0;32m     19\u001b[0m \u001b[38;5;28;01mtry\u001b[39;00m:\n\u001b[1;32m---> 20\u001b[0m     outputfilename \u001b[38;5;241m=\u001b[39m \u001b[43m_build\u001b[49m\u001b[43m(\u001b[49m\u001b[43mtmpdir\u001b[49m\u001b[43m,\u001b[49m\u001b[43m \u001b[49m\u001b[43mext\u001b[49m\u001b[43m,\u001b[49m\u001b[43m \u001b[49m\u001b[43mcompiler_verbose\u001b[49m\u001b[43m,\u001b[49m\u001b[43m \u001b[49m\u001b[43mdebug\u001b[49m\u001b[43m)\u001b[49m\n\u001b[0;32m     21\u001b[0m     outputfilename \u001b[38;5;241m=\u001b[39m os\u001b[38;5;241m.\u001b[39mpath\u001b[38;5;241m.\u001b[39mabspath(outputfilename)\n\u001b[0;32m     22\u001b[0m \u001b[38;5;28;01mfinally\u001b[39;00m:\n\u001b[0;32m     23\u001b[0m     \u001b[38;5;66;03m# workaround for a distutils bugs where some env vars can\u001b[39;00m\n\u001b[0;32m     24\u001b[0m     \u001b[38;5;66;03m# become longer and longer every time it is used\u001b[39;00m\n",
            "File \u001b[1;32mc:\\Users\\sebas\\Desktop\\coding\\PRIM\\.venv\\lib\\site-packages\\cffi\\ffiplatform.py:54\u001b[0m, in \u001b[0;36m_build\u001b[1;34m(tmpdir, ext, compiler_verbose, debug)\u001b[0m\n\u001b[0;32m     52\u001b[0m         set_threshold(old_level)\n\u001b[0;32m     53\u001b[0m \u001b[38;5;28;01mexcept\u001b[39;00m (CompileError, LinkError) \u001b[38;5;28;01mas\u001b[39;00m e:\n\u001b[1;32m---> 54\u001b[0m     \u001b[38;5;28;01mraise\u001b[39;00m VerificationError(\u001b[38;5;124m'\u001b[39m\u001b[38;5;132;01m%s\u001b[39;00m\u001b[38;5;124m: \u001b[39m\u001b[38;5;132;01m%s\u001b[39;00m\u001b[38;5;124m'\u001b[39m \u001b[38;5;241m%\u001b[39m (e\u001b[38;5;241m.\u001b[39m\u001b[38;5;18m__class__\u001b[39m\u001b[38;5;241m.\u001b[39m\u001b[38;5;18m__name__\u001b[39m, e))\n\u001b[0;32m     55\u001b[0m \u001b[38;5;66;03m#\u001b[39;00m\n\u001b[0;32m     56\u001b[0m \u001b[38;5;28;01mreturn\u001b[39;00m soname\n",
            "\u001b[1;31mVerificationError\u001b[0m: CompileError: command 'C:\\\\Program Files (x86)\\\\Microsoft Visual Studio\\\\2022\\\\BuildTools\\\\VC\\\\Tools\\\\MSVC\\\\14.44.35207\\\\bin\\\\HostX86\\\\x64\\\\cl.exe' failed with exit code 2"
          ]
        }
      ],
      "source": [
        "# Zelle 8 – CFFI C-Extension Setup\n",
        "\n",
        "import subprocess\n",
        "import sys\n",
        "\n",
        "# CFFI installieren (falls nicht vorhanden)\n",
        "try:\n",
        "    import cffi\n",
        "\n",
        "    print(\"CFFI bereits installiert\")\n",
        "except ImportError:\n",
        "    subprocess.check_call([sys.executable, \"-m\", \"pip\", \"install\", \"cffi\"])\n",
        "    import cffi\n",
        "\n",
        "# C-Code für FJ32-Hash und SPRP\n",
        "c_source = \"\"\"\n",
        "#include <stdint.h>\n",
        "\n",
        "uint32_t fj_hash_c(uint32_t x) {\n",
        "    uint32_t h = x;\n",
        "    h = (((h >> 16) ^ h) * 0x45D9F3B) & 0xFFFFFFFF;\n",
        "    h = (((h >> 16) ^ h) * 0x45D9F3B) & 0xFFFFFFFF;\n",
        "    return ((h >> 16) ^ h) & 0xFF;\n",
        "}\n",
        "\n",
        "uint64_t modpow_c(uint64_t a, uint64_t d, uint64_t n) {\n",
        "    uint64_t result = 1;\n",
        "    uint64_t base = a % n;\n",
        "    while (d > 0) {\n",
        "        if (d & 1) {\n",
        "            result = (__uint128_t)result * base % n;\n",
        "        }\n",
        "        base = (__uint128_t)base * base % n;\n",
        "        d >>= 1;\n",
        "    }\n",
        "    return result;\n",
        "}\n",
        "\n",
        "int sprp_c(uint64_t n, uint64_t a) {\n",
        "    if (n < 2) return 0;\n",
        "    if ((n & 1) == 0) return n == 2;\n",
        "    \n",
        "    uint64_t d = n - 1, s = 0;\n",
        "    while ((d & 1) == 0) { d >>= 1; s++; }\n",
        "    \n",
        "    uint64_t x = modpow_c(a, d, n);\n",
        "    if (x == 1 || x == n - 1) return 1;\n",
        "    \n",
        "    for (uint64_t i = 1; i < s; i++) {\n",
        "        x = (__uint128_t)x * x % n;\n",
        "        if (x == n - 1) return 1;\n",
        "    }\n",
        "    return 0;\n",
        "}\n",
        "\n",
        "int fj32_c(uint32_t n) {\n",
        "    if (n < 2) return 0;\n",
        "    if (n % 2 == 0) return n == 2;\n",
        "    if (n % 3 == 0) return n == 3;\n",
        "    if (n % 5 == 0) return n == 5;\n",
        "    if (n % 7 == 0) return n == 7;\n",
        "    \n",
        "    uint32_t bases[] = {2, 7, 61};\n",
        "    uint32_t h = fj_hash_c(n);\n",
        "    uint32_t base = bases[h % 3];\n",
        "    return sprp_c(n, base);\n",
        "}\n",
        "\"\"\"\n",
        "\n",
        "# CFFI Builder\n",
        "ffibuilder = cffi.FFI()\n",
        "ffibuilder.cdef(\n",
        "    \"\"\"\n",
        "    uint32_t fj_hash_c(uint32_t x);\n",
        "    int fj32_c(uint32_t n);\n",
        "\"\"\"\n",
        ")\n",
        "\n",
        "ffibuilder.set_source(\"_fj32_c\", c_source)\n",
        "ffibuilder.compile(tmpdir=\".\")\n",
        "\n",
        "print(\"C-Extension kompiliert\")"
      ]
    },
    {
      "cell_type": "code",
      "execution_count": null,
      "id": "e0fa49d1",
      "metadata": {},
      "outputs": [
        {
          "name": "stdout",
          "output_type": "stream",
          "text": [
            "Hash C: 116\n",
            "FJ32 C: True\n"
          ]
        }
      ],
      "source": [
        "import primetest\n",
        "\n",
        "print(\"Hash C:\", primetest.fj_hash_c(123456789))\n",
        "print(\"FJ32 C:\", primetest.fj32_c(101))"
      ]
    },
    {
      "cell_type": "code",
      "execution_count": 19,
      "id": "2fa9fd01",
      "metadata": {},
      "outputs": [
        {
          "name": "stdout",
          "output_type": "stream",
          "text": [
            "C-Extension: 0.920 M ops/s (0.11s total)\n",
            "Numba:       1.229 M ops/s (0.08s total)\n"
          ]
        }
      ],
      "source": [
        "import time\n",
        "import random\n",
        "\n",
        "# Testdaten neu generieren\n",
        "TEST_COUNT = 100_000\n",
        "data = [random.randrange(3, 2**32, 2) for _ in range(TEST_COUNT)]\n",
        "\n",
        "# Numba-Benchmark erneut, um fj_nb_time zu definieren\n",
        "start = time.perf_counter()\n",
        "for n in data:\n",
        "    fj32_nb(n)\n",
        "fj_nb_time = time.perf_counter() - start\n",
        "\n",
        "# C-Extension Benchmark\n",
        "start = time.perf_counter()\n",
        "for n in data:\n",
        "    primetest.fj32_c(n)\n",
        "c_time = time.perf_counter() - start\n",
        "\n",
        "print(f\"C-Extension: {TEST_COUNT/c_time/1e6:.3f} M ops/s ({c_time:.2f}s total)\")\n",
        "print(f\"Numba:       {TEST_COUNT/fj_nb_time/1e6:.3f} M ops/s ({fj_nb_time:.2f}s total)\")"
      ]
    }
  ],
  "metadata": {
    "kernelspec": {
      "display_name": ".venv",
      "language": "python",
      "name": "python3"
    },
    "language_info": {
      "codemirror_mode": {
        "name": "ipython",
        "version": 3
      },
      "file_extension": ".py",
      "mimetype": "text/x-python",
      "name": "python",
      "nbconvert_exporter": "python",
      "pygments_lexer": "ipython3",
      "version": "3.10.6"
    }
  },
  "nbformat": 4,
  "nbformat_minor": 5
}
